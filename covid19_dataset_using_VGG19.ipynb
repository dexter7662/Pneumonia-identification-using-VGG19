{
  "nbformat": 4,
  "nbformat_minor": 0,
  "metadata": {
    "colab": {
      "name": "covid19 dataset using VGG19",
      "provenance": [],
      "collapsed_sections": [],
      "authorship_tag": "ABX9TyND21Nd4JWvnmLEwtSpfN1v",
      "include_colab_link": true
    },
    "kernelspec": {
      "display_name": "Python 3",
      "name": "python3"
    }
  },
  "cells": [
    {
      "cell_type": "markdown",
      "metadata": {
        "id": "view-in-github",
        "colab_type": "text"
      },
      "source": [
        "<a href=\"https://colab.research.google.com/github/dexter7662/Pneumonia-identification-using-VGG19/blob/main/covid19_dataset_using_VGG19.ipynb\" target=\"_parent\"><img src=\"https://colab.research.google.com/assets/colab-badge.svg\" alt=\"Open In Colab\"/></a>"
      ]
    },
    {
      "cell_type": "code",
      "metadata": {
        "colab": {
          "base_uri": "https://localhost:8080/"
        },
        "id": "5kTjbeTBwV2Z",
        "outputId": "e59417a3-c36f-48ea-a71b-98d5cc32f57d"
      },
      "source": [
        "import os\n",
        "os.environ['KAGGLE_USERNAME'] = \"lorddexter\"\n",
        "os.environ['KAGGLE_KEY'] = \"281706d18d96f899cdc0f5617516c67a\"\n",
        "!kaggle datasets download -d khoongweihao/covid19-xray-dataset-train-test-sets"
      ],
      "execution_count": null,
      "outputs": [
        {
          "output_type": "stream",
          "text": [
            "Downloading covid19-xray-dataset-train-test-sets.zip to /content\n",
            " 89% 75.0M/84.3M [00:01<00:00, 48.0MB/s]\n",
            "100% 84.3M/84.3M [00:01<00:00, 67.0MB/s]\n"
          ],
          "name": "stdout"
        }
      ]
    },
    {
      "cell_type": "code",
      "metadata": {
        "colab": {
          "base_uri": "https://localhost:8080/"
        },
        "id": "Hxtld0O9pHZW",
        "outputId": "4d6b3491-31b7-47f4-b6f4-b036fab5796d"
      },
      "source": [
        "!unzip covid19-xray-dataset-train-test-sets.zip"
      ],
      "execution_count": null,
      "outputs": [
        {
          "output_type": "stream",
          "text": [
            "Archive:  covid19-xray-dataset-train-test-sets.zip\n",
            "  inflating: xray_dataset_covid19/test/NORMAL/NORMAL2-IM-0035-0001.jpeg  \n",
            "  inflating: xray_dataset_covid19/test/NORMAL/NORMAL2-IM-0052-0001.jpeg  \n",
            "  inflating: xray_dataset_covid19/test/NORMAL/NORMAL2-IM-0058-0001.jpeg  \n",
            "  inflating: xray_dataset_covid19/test/NORMAL/NORMAL2-IM-0059-0001.jpeg  \n",
            "  inflating: xray_dataset_covid19/test/NORMAL/NORMAL2-IM-0072-0001.jpeg  \n",
            "  inflating: xray_dataset_covid19/test/NORMAL/NORMAL2-IM-0073-0001.jpeg  \n",
            "  inflating: xray_dataset_covid19/test/NORMAL/NORMAL2-IM-0092-0001.jpeg  \n",
            "  inflating: xray_dataset_covid19/test/NORMAL/NORMAL2-IM-0105-0001.jpeg  \n",
            "  inflating: xray_dataset_covid19/test/NORMAL/NORMAL2-IM-0110-0001.jpeg  \n",
            "  inflating: xray_dataset_covid19/test/NORMAL/NORMAL2-IM-0111-0001.jpeg  \n",
            "  inflating: xray_dataset_covid19/test/NORMAL/NORMAL2-IM-0112-0001.jpeg  \n",
            "  inflating: xray_dataset_covid19/test/NORMAL/NORMAL2-IM-0117-0001.jpeg  \n",
            "  inflating: xray_dataset_covid19/test/NORMAL/NORMAL2-IM-0120-0001.jpeg  \n",
            "  inflating: xray_dataset_covid19/test/NORMAL/NORMAL2-IM-0123-0001.jpeg  \n",
            "  inflating: xray_dataset_covid19/test/NORMAL/NORMAL2-IM-0130-0001.jpeg  \n",
            "  inflating: xray_dataset_covid19/test/NORMAL/NORMAL2-IM-0131-0001.jpeg  \n",
            "  inflating: xray_dataset_covid19/test/NORMAL/NORMAL2-IM-0132-0001.jpeg  \n",
            "  inflating: xray_dataset_covid19/test/NORMAL/NORMAL2-IM-0139-0001.jpeg  \n",
            "  inflating: xray_dataset_covid19/test/NORMAL/NORMAL2-IM-0145-0001.jpeg  \n",
            "  inflating: xray_dataset_covid19/test/NORMAL/NORMAL2-IM-0171-0001.jpeg  \n",
            "  inflating: xray_dataset_covid19/test/PNEUMONIA/SARS-10.1148rg.242035193-g04mr34g0-Fig8a-day0.jpeg  \n",
            "  inflating: xray_dataset_covid19/test/PNEUMONIA/SARS-10.1148rg.242035193-g04mr34g0-Fig8b-day5.jpeg  \n",
            "  inflating: xray_dataset_covid19/test/PNEUMONIA/SARS-10.1148rg.242035193-g04mr34g0-Fig8c-day10.jpeg  \n",
            "  inflating: xray_dataset_covid19/test/PNEUMONIA/SARS-10.1148rg.242035193-g04mr34g04a-Fig4a-day7.jpeg  \n",
            "  inflating: xray_dataset_covid19/test/PNEUMONIA/SARS-10.1148rg.242035193-g04mr34g04b-Fig4b-day12.jpeg  \n",
            "  inflating: xray_dataset_covid19/test/PNEUMONIA/SARS-10.1148rg.242035193-g04mr34g05x-Fig5-day9.jpeg  \n",
            "  inflating: xray_dataset_covid19/test/PNEUMONIA/SARS-10.1148rg.242035193-g04mr34g07a-Fig7a-day5.jpeg  \n",
            "  inflating: xray_dataset_covid19/test/PNEUMONIA/SARS-10.1148rg.242035193-g04mr34g07b-Fig7b-day12.jpeg  \n",
            "  inflating: xray_dataset_covid19/test/PNEUMONIA/SARS-10.1148rg.242035193-g04mr34g09a-Fig9a-day17.jpeg  \n",
            "  inflating: xray_dataset_covid19/test/PNEUMONIA/SARS-10.1148rg.242035193-g04mr34g09b-Fig9b-day19.jpeg  \n",
            "  inflating: xray_dataset_covid19/test/PNEUMONIA/SARS-10.1148rg.242035193-g04mr34g09c-Fig9c-day27.jpeg  \n",
            "  inflating: xray_dataset_covid19/test/PNEUMONIA/ryct.2020200034.fig2.jpeg  \n",
            "  inflating: xray_dataset_covid19/test/PNEUMONIA/ryct.2020200034.fig5-day0.jpeg  \n",
            "  inflating: xray_dataset_covid19/test/PNEUMONIA/ryct.2020200034.fig5-day4.jpeg  \n",
            "  inflating: xray_dataset_covid19/test/PNEUMONIA/ryct.2020200034.fig5-day7.jpeg  \n",
            "  inflating: xray_dataset_covid19/test/PNEUMONIA/streptococcus-pneumoniae-pneumonia-1.jpg  \n",
            "  inflating: xray_dataset_covid19/test/PNEUMONIA/streptococcus-pneumoniae-pneumonia-temporal-evolution-1-day0.jpg  \n",
            "  inflating: xray_dataset_covid19/test/PNEUMONIA/streptococcus-pneumoniae-pneumonia-temporal-evolution-1-day1.jpg  \n",
            "  inflating: xray_dataset_covid19/test/PNEUMONIA/streptococcus-pneumoniae-pneumonia-temporal-evolution-1-day2.jpg  \n",
            "  inflating: xray_dataset_covid19/test/PNEUMONIA/streptococcus-pneumoniae-pneumonia-temporal-evolution-1-day3.jpg  \n",
            "  inflating: xray_dataset_covid19/train/NORMAL/IM-0001-0001.jpeg  \n",
            "  inflating: xray_dataset_covid19/train/NORMAL/IM-0003-0001.jpeg  \n",
            "  inflating: xray_dataset_covid19/train/NORMAL/IM-0005-0001.jpeg  \n",
            "  inflating: xray_dataset_covid19/train/NORMAL/IM-0006-0001.jpeg  \n",
            "  inflating: xray_dataset_covid19/train/NORMAL/IM-0007-0001.jpeg  \n",
            "  inflating: xray_dataset_covid19/train/NORMAL/IM-0009-0001.jpeg  \n",
            "  inflating: xray_dataset_covid19/train/NORMAL/IM-0010-0001.jpeg  \n",
            "  inflating: xray_dataset_covid19/train/NORMAL/IM-0011-0001-0001.jpeg  \n",
            "  inflating: xray_dataset_covid19/train/NORMAL/IM-0011-0001-0002.jpeg  \n",
            "  inflating: xray_dataset_covid19/train/NORMAL/IM-0011-0001.jpeg  \n",
            "  inflating: xray_dataset_covid19/train/NORMAL/IM-0013-0001.jpeg  \n",
            "  inflating: xray_dataset_covid19/train/NORMAL/IM-0015-0001.jpeg  \n",
            "  inflating: xray_dataset_covid19/train/NORMAL/IM-0016-0001.jpeg  \n",
            "  inflating: xray_dataset_covid19/train/NORMAL/IM-0017-0001.jpeg  \n",
            "  inflating: xray_dataset_covid19/train/NORMAL/IM-0019-0001.jpeg  \n",
            "  inflating: xray_dataset_covid19/train/NORMAL/IM-0021-0001.jpeg  \n",
            "  inflating: xray_dataset_covid19/train/NORMAL/IM-0022-0001.jpeg  \n",
            "  inflating: xray_dataset_covid19/train/NORMAL/IM-0023-0001.jpeg  \n",
            "  inflating: xray_dataset_covid19/train/NORMAL/IM-0025-0001.jpeg  \n",
            "  inflating: xray_dataset_covid19/train/NORMAL/IM-0027-0001.jpeg  \n",
            "  inflating: xray_dataset_covid19/train/NORMAL/IM-0029-0001.jpeg  \n",
            "  inflating: xray_dataset_covid19/train/NORMAL/IM-0030-0001.jpeg  \n",
            "  inflating: xray_dataset_covid19/train/NORMAL/IM-0031-0001.jpeg  \n",
            "  inflating: xray_dataset_covid19/train/NORMAL/IM-0033-0001-0001.jpeg  \n",
            "  inflating: xray_dataset_covid19/train/NORMAL/IM-0033-0001-0002.jpeg  \n",
            "  inflating: xray_dataset_covid19/train/NORMAL/IM-0033-0001.jpeg  \n",
            "  inflating: xray_dataset_covid19/train/NORMAL/IM-0035-0001.jpeg  \n",
            "  inflating: xray_dataset_covid19/train/NORMAL/IM-0036-0001.jpeg  \n",
            "  inflating: xray_dataset_covid19/train/NORMAL/IM-0037-0001.jpeg  \n",
            "  inflating: xray_dataset_covid19/train/NORMAL/IM-0039-0001.jpeg  \n",
            "  inflating: xray_dataset_covid19/train/NORMAL/IM-0041-0001.jpeg  \n",
            "  inflating: xray_dataset_covid19/train/NORMAL/IM-0043-0001.jpeg  \n",
            "  inflating: xray_dataset_covid19/train/NORMAL/IM-0045-0001.jpeg  \n",
            "  inflating: xray_dataset_covid19/train/NORMAL/IM-0046-0001.jpeg  \n",
            "  inflating: xray_dataset_covid19/train/NORMAL/IM-0049-0001.jpeg  \n",
            "  inflating: xray_dataset_covid19/train/NORMAL/IM-0050-0001.jpeg  \n",
            "  inflating: xray_dataset_covid19/train/NORMAL/IM-0059-0001.jpeg  \n",
            "  inflating: xray_dataset_covid19/train/NORMAL/IM-0061-0001.jpeg  \n",
            "  inflating: xray_dataset_covid19/train/NORMAL/IM-0063-0001.jpeg  \n",
            "  inflating: xray_dataset_covid19/train/NORMAL/IM-0069-0001.jpeg  \n",
            "  inflating: xray_dataset_covid19/train/NORMAL/IM-0070-0001.jpeg  \n",
            "  inflating: xray_dataset_covid19/train/NORMAL/IM-0071-0001.jpeg  \n",
            "  inflating: xray_dataset_covid19/train/NORMAL/IM-0073-0001.jpeg  \n",
            "  inflating: xray_dataset_covid19/train/NORMAL/IM-0075-0001.jpeg  \n",
            "  inflating: xray_dataset_covid19/train/NORMAL/IM-0077-0001.jpeg  \n",
            "  inflating: xray_dataset_covid19/train/NORMAL/IM-0079-0001.jpeg  \n",
            "  inflating: xray_dataset_covid19/train/NORMAL/IM-0081-0001.jpeg  \n",
            "  inflating: xray_dataset_covid19/train/NORMAL/IM-0083-0001.jpeg  \n",
            "  inflating: xray_dataset_covid19/train/NORMAL/IM-0084-0001.jpeg  \n",
            "  inflating: xray_dataset_covid19/train/NORMAL/IM-0085-0001.jpeg  \n",
            "  inflating: xray_dataset_covid19/train/NORMAL/IM-0086-0001.jpeg  \n",
            "  inflating: xray_dataset_covid19/train/NORMAL/IM-0087-0001.jpeg  \n",
            "  inflating: xray_dataset_covid19/train/NORMAL/IM-0089-0001.jpeg  \n",
            "  inflating: xray_dataset_covid19/train/NORMAL/IM-0091-0001.jpeg  \n",
            "  inflating: xray_dataset_covid19/train/NORMAL/IM-0093-0001.jpeg  \n",
            "  inflating: xray_dataset_covid19/train/NORMAL/IM-0095-0001.jpeg  \n",
            "  inflating: xray_dataset_covid19/train/NORMAL/IM-0097-0001.jpeg  \n",
            "  inflating: xray_dataset_covid19/train/NORMAL/IM-0099-0001.jpeg  \n",
            "  inflating: xray_dataset_covid19/train/NORMAL/IM-0101-0001.jpeg  \n",
            "  inflating: xray_dataset_covid19/train/NORMAL/IM-0102-0001.jpeg  \n",
            "  inflating: xray_dataset_covid19/train/NORMAL/IM-0103-0001.jpeg  \n",
            "  inflating: xray_dataset_covid19/train/NORMAL/IM-0105-0001.jpeg  \n",
            "  inflating: xray_dataset_covid19/train/NORMAL/IM-0107-0001.jpeg  \n",
            "  inflating: xray_dataset_covid19/train/NORMAL/IM-0110-0001.jpeg  \n",
            "  inflating: xray_dataset_covid19/train/NORMAL/IM-0111-0001.jpeg  \n",
            "  inflating: xray_dataset_covid19/train/NORMAL/NORMAL2-IM-0007-0001.jpeg  \n",
            "  inflating: xray_dataset_covid19/train/NORMAL/NORMAL2-IM-0012-0001.jpeg  \n",
            "  inflating: xray_dataset_covid19/train/NORMAL/NORMAL2-IM-0013-0001.jpeg  \n",
            "  inflating: xray_dataset_covid19/train/NORMAL/NORMAL2-IM-0023-0001.jpeg  \n",
            "  inflating: xray_dataset_covid19/train/NORMAL/NORMAL2-IM-0027-0001.jpeg  \n",
            "  inflating: xray_dataset_covid19/train/NORMAL/NORMAL2-IM-0028-0001.jpeg  \n",
            "  inflating: xray_dataset_covid19/train/NORMAL/NORMAL2-IM-0029-0001.jpeg  \n",
            "  inflating: xray_dataset_covid19/train/NORMAL/NORMAL2-IM-0030-0001.jpeg  \n",
            "  inflating: xray_dataset_covid19/train/NORMAL/NORMAL2-IM-0033-0001.jpeg  \n",
            "  inflating: xray_dataset_covid19/train/PNEUMONIA/01E392EE-69F9-4E33-BFCE-E5C968654078.jpeg  \n",
            "  inflating: xray_dataset_covid19/train/PNEUMONIA/1-s2.0-S0140673620303706-fx1_lrg.jpg  \n",
            "  inflating: xray_dataset_covid19/train/PNEUMONIA/1-s2.0-S1684118220300608-main.pdf-001.jpg  \n",
            "  inflating: xray_dataset_covid19/train/PNEUMONIA/1-s2.0-S1684118220300608-main.pdf-002.jpg  \n",
            "  inflating: xray_dataset_covid19/train/PNEUMONIA/1-s2.0-S1684118220300682-main.pdf-002-a1.png  \n",
            "  inflating: xray_dataset_covid19/train/PNEUMONIA/1-s2.0-S1684118220300682-main.pdf-002-a2.png  \n",
            "  inflating: xray_dataset_covid19/train/PNEUMONIA/1-s2.0-S1684118220300682-main.pdf-003-b1.png  \n",
            "  inflating: xray_dataset_covid19/train/PNEUMONIA/1-s2.0-S1684118220300682-main.pdf-003-b2.png  \n",
            "  inflating: xray_dataset_covid19/train/PNEUMONIA/1312A392-67A3-4EBF-9319-810CF6DA5EF6.jpeg  \n",
            "  inflating: xray_dataset_covid19/train/PNEUMONIA/171CB377-62FF-4B76-906C-F3787A01CB2E.jpeg  \n",
            "  inflating: xray_dataset_covid19/train/PNEUMONIA/1B734A89-A1BF-49A8-A1D3-66FAFA4FAC5D.jpeg  \n",
            "  inflating: xray_dataset_covid19/train/PNEUMONIA/23E99E2E-447C-46E5-8EB2-D35D12473C39.png  \n",
            "  inflating: xray_dataset_covid19/train/PNEUMONIA/2C10A413-AABE-4807-8CCE-6A2025594067.jpeg  \n",
            "  inflating: xray_dataset_covid19/train/PNEUMONIA/2C26F453-AF3B-4517-BB9E-802CF2179543.jpeg  \n",
            "  inflating: xray_dataset_covid19/train/PNEUMONIA/31BA3780-2323-493F-8AED-62081B9C383B.jpeg  \n",
            "  inflating: xray_dataset_covid19/train/PNEUMONIA/39EE8E69-5801-48DE-B6E3-BE7D1BCF3092.jpeg  \n",
            "  inflating: xray_dataset_covid19/train/PNEUMONIA/41591_2020_819_Fig1_HTML.webp-day10.png  \n",
            "  inflating: xray_dataset_covid19/train/PNEUMONIA/41591_2020_819_Fig1_HTML.webp-day5.png  \n",
            "  inflating: xray_dataset_covid19/train/PNEUMONIA/446B2CB6-B572-40AB-B01F-1910CA07086A.jpeg  \n",
            "  inflating: xray_dataset_covid19/train/PNEUMONIA/5931B64A-7B97-485D-BE60-3F1EA76BC4F0.jpeg  \n",
            "  inflating: xray_dataset_covid19/train/PNEUMONIA/5CBC2E94-D358-401E-8928-965CCD965C5C.jpeg  \n",
            "  inflating: xray_dataset_covid19/train/PNEUMONIA/5e6dd879fde9502400e58b2f.jpeg  \n",
            "  inflating: xray_dataset_covid19/train/PNEUMONIA/6CB4EFC6-68FA-4CD5-940C-BEFA8DAFE9A7.jpeg  \n",
            "  inflating: xray_dataset_covid19/train/PNEUMONIA/7AF6C1AF-D249-4BD2-8C26-449304105D03.jpeg  \n",
            "  inflating: xray_dataset_covid19/train/PNEUMONIA/7C69C012-7479-493F-8722-ABC29C60A2DD.jpeg  \n",
            "  inflating: xray_dataset_covid19/train/PNEUMONIA/7D2CF6CE-F529-4470-8356-D33FFAF98600.jpeg  \n",
            "  inflating: xray_dataset_covid19/train/PNEUMONIA/7E335538-2F86-424E-A0AB-6397783A38D0.jpeg  \n",
            "  inflating: xray_dataset_covid19/train/PNEUMONIA/7EF28E12-F628-4BEC-A8C5-E6277C2E4F60.png  \n",
            "  inflating: xray_dataset_covid19/train/PNEUMONIA/80446565-E090-4187-A031-9D3CEAA586C8.jpeg  \n",
            "  inflating: xray_dataset_covid19/train/PNEUMONIA/85E52EB3-56E9-4D67-82DA-DEA247C82886.jpeg  \n",
            "  inflating: xray_dataset_covid19/train/PNEUMONIA/8FDE8DBA-CFBD-4B4C-B1A4-6F36A93B7E87.jpeg  \n",
            "  inflating: xray_dataset_covid19/train/PNEUMONIA/93FE0BB1-022D-4F24-9727-987A07975FFB.jpeg  \n",
            "  inflating: xray_dataset_covid19/train/PNEUMONIA/9C34AF49-E589-44D5-92D3-168B3B04E4A6.jpeg  \n",
            "  inflating: xray_dataset_covid19/train/PNEUMONIA/ARDSSevere.png  \n",
            "  inflating: xray_dataset_covid19/train/PNEUMONIA/B59DD164-51D5-40DF-A926-6A42DD52EBE8.jpeg  \n",
            "  inflating: xray_dataset_covid19/train/PNEUMONIA/C6EA0BE5-B01E-4113-B194-18D956675E25.jpeg  \n",
            "  inflating: xray_dataset_covid19/train/PNEUMONIA/CD50BA96-6982-4C80-AE7B-5F67ACDBFA56.jpeg  \n",
            "  inflating: xray_dataset_covid19/train/PNEUMONIA/E1724330-1866-4581-8CD8-CEC9B8AFEDDE.jpeg  \n",
            "  inflating: xray_dataset_covid19/train/PNEUMONIA/E63574A7-4188-4C8D-8D17-9D67A18A1AFA.jpeg  \n",
            "  inflating: xray_dataset_covid19/train/PNEUMONIA/F051E018-DAD1-4506-AD43-BE4CA29E960B.jpeg  \n",
            "  inflating: xray_dataset_covid19/train/PNEUMONIA/F4341CE7-73C9-45C6-99C8-8567A5484B63.jpeg  \n",
            "  inflating: xray_dataset_covid19/train/PNEUMONIA/F63AB6CE-1968-4154-A70F-913AF154F53D.jpeg  \n",
            "  inflating: xray_dataset_covid19/train/PNEUMONIA/MERS-CoV-1-s2.0-S0378603X1500248X-gr4e.jpg  \n",
            "  inflating: xray_dataset_covid19/train/PNEUMONIA/acute-respiratory-distress-syndrome-ards-1.jpg  \n",
            "  inflating: xray_dataset_covid19/train/PNEUMONIA/all14238-fig-0001-m-b.jpg  \n",
            "  inflating: xray_dataset_covid19/train/PNEUMONIA/all14238-fig-0001-m-c.jpg  \n",
            "  inflating: xray_dataset_covid19/train/PNEUMONIA/all14238-fig-0002-m-e.jpg  \n",
            "  inflating: xray_dataset_covid19/train/PNEUMONIA/ards-secondary-to-tiger-snake-bite.png  \n",
            "  inflating: xray_dataset_covid19/train/PNEUMONIA/auntminnie-2020_01_31_20_24_2322_2020_01_31_x-ray_coronavirus_US.jpg  \n",
            "  inflating: xray_dataset_covid19/train/PNEUMONIA/auntminnie-b-2020_01_28_23_51_6665_2020_01_28_Vietnam_coronavirus.jpeg  \n",
            "  inflating: xray_dataset_covid19/train/PNEUMONIA/auntminnie-c-2020_01_28_23_51_6665_2020_01_28_Vietnam_coronavirus.jpeg  \n",
            "  inflating: xray_dataset_covid19/train/PNEUMONIA/auntminnie-d-2020_01_28_23_51_6665_2020_01_28_Vietnam_coronavirus.jpeg  \n",
            "  inflating: xray_dataset_covid19/train/PNEUMONIA/covid-19-pneumonia-12.jpg  \n",
            "  inflating: xray_dataset_covid19/train/PNEUMONIA/covid-19-pneumonia-14-PA.png  \n",
            "  inflating: xray_dataset_covid19/train/PNEUMONIA/covid-19-pneumonia-15-PA.jpg  \n",
            "  inflating: xray_dataset_covid19/train/PNEUMONIA/covid-19-pneumonia-7-PA.jpg  \n",
            "  inflating: xray_dataset_covid19/train/PNEUMONIA/jkms-35-e79-g001-l-a.jpg  \n",
            "  inflating: xray_dataset_covid19/train/PNEUMONIA/jkms-35-e79-g001-l-b.jpg  \n",
            "  inflating: xray_dataset_covid19/train/PNEUMONIA/jkms-35-e79-g001-l-c.jpg  \n",
            "  inflating: xray_dataset_covid19/train/PNEUMONIA/kjr-21-e24-g001-l-a.jpg  \n",
            "  inflating: xray_dataset_covid19/train/PNEUMONIA/kjr-21-e24-g002-l-a.jpg  \n",
            "  inflating: xray_dataset_covid19/train/PNEUMONIA/kjr-21-e24-g003-l-a.jpg  \n",
            "  inflating: xray_dataset_covid19/train/PNEUMONIA/kjr-21-e25-g001-l-a.jpg  \n",
            "  inflating: xray_dataset_covid19/train/PNEUMONIA/lancet-case2a.jpg  \n",
            "  inflating: xray_dataset_covid19/train/PNEUMONIA/nCoV-Snohomish-20382862_web1_M1-Lungs-EDH-200201-640x300@2x.jpg  \n",
            "  inflating: xray_dataset_covid19/train/PNEUMONIA/nCoV-radiol.2020200269.fig1-day7.jpeg  \n",
            "  inflating: xray_dataset_covid19/train/PNEUMONIA/nejmc2001573_f1a.jpeg  \n",
            "  inflating: xray_dataset_covid19/train/PNEUMONIA/nejmc2001573_f1b.jpeg  \n",
            "  inflating: xray_dataset_covid19/train/PNEUMONIA/nejmoa2001191_f1-PA.jpeg  \n",
            "  inflating: xray_dataset_covid19/train/PNEUMONIA/nejmoa2001191_f3-PA.jpeg  \n",
            "  inflating: xray_dataset_covid19/train/PNEUMONIA/nejmoa2001191_f4.jpeg  \n",
            "  inflating: xray_dataset_covid19/train/PNEUMONIA/nejmoa2001191_f5-PA.jpeg  \n",
            "  inflating: xray_dataset_covid19/train/PNEUMONIA/pneumocystis-pneumonia-2-PA.png  \n",
            "  inflating: xray_dataset_covid19/train/PNEUMONIA/ryct.2020200028.fig1a.jpeg  \n"
          ],
          "name": "stdout"
        }
      ]
    },
    {
      "cell_type": "code",
      "metadata": {
        "id": "waWsJpQmPyvw"
      },
      "source": [
        "import tensorflow as tf\n",
        "import matplotlib.pyplot as plt"
      ],
      "execution_count": null,
      "outputs": []
    },
    {
      "cell_type": "markdown",
      "metadata": {
        "id": "AczcQuqz9Yxs"
      },
      "source": [
        "### **Importing the datasets**"
      ]
    },
    {
      "cell_type": "code",
      "metadata": {
        "colab": {
          "base_uri": "https://localhost:8080/"
        },
        "id": "Q5lLD1NTvjjH",
        "outputId": "f9af6917-ab3c-494d-b898-d542ab0b784a"
      },
      "source": [
        "from keras.preprocessing.image import ImageDataGenerator\n",
        "train_datagen = ImageDataGenerator(rescale= 1./255)\n",
        "td = train_datagen.flow_from_directory(directory='xray_dataset_covid19/train', target_size=(224, 224), batch_size=256, shuffle=True, class_mode= 'binary')\n",
        "validation_datagen = ImageDataGenerator(rescale =1./255)\n",
        "vd = validation_datagen.flow_from_directory(directory = 'xray_dataset_covid19/test', target_size=(224,224), batch_size=256, shuffle=True, class_mode='binary')"
      ],
      "execution_count": null,
      "outputs": [
        {
          "output_type": "stream",
          "text": [
            "Found 148 images belonging to 2 classes.\n",
            "Found 40 images belonging to 2 classes.\n"
          ],
          "name": "stdout"
        }
      ]
    },
    {
      "cell_type": "markdown",
      "metadata": {
        "id": "V6T6U9sS9h6_"
      },
      "source": [
        "## **Creating and fitting the model**"
      ]
    },
    {
      "cell_type": "code",
      "metadata": {
        "id": "VYd3b2TVmiN1"
      },
      "source": [
        "from tensorflow.keras.models import Model\n",
        "from tensorflow.keras.layers import Dense\n",
        "from tensorflow.keras.layers import Input\n",
        "from tensorflow.keras.layers import Conv2D, MaxPooling2D, BatchNormalization\n",
        "from tensorflow.keras.layers import Dropout\n",
        "from tensorflow.keras.initializers import RandomNormal\n",
        "from tensorflow.keras.regularizers import l2\n",
        "from tensorflow.keras import optimizers\n",
        "from tensorflow.keras.layers import Flatten"
      ],
      "execution_count": null,
      "outputs": []
    },
    {
      "cell_type": "code",
      "metadata": {
        "colab": {
          "base_uri": "https://localhost:8080/"
        },
        "id": "W9C6viwhHacE",
        "outputId": "80227077-4e83-40cb-c72b-62708c079d1b"
      },
      "source": [
        "\n",
        "input = Input(shape=(224,224,3))\n",
        "conv1 = Conv2D(filters=64,kernel_size=(3,3),strides=(1,1), padding='same', kernel_initializer= 'random_normal', bias_initializer= 'zeros')(input)\n",
        "conv2 = Conv2D(filters=64,kernel_size=(3,3),strides=(1,1), padding='same', kernel_initializer= 'random_normal', bias_initializer= 'zeros')(conv1)\n",
        "pool1 = MaxPooling2D(pool_size=(2,2), strides=2)(conv2)\n",
        "conv3 = Conv2D(filters=128, kernel_size=(3,3),strides=(1,1), padding='same', kernel_initializer= 'random_normal', bias_initializer= 'zeros')(pool1)\n",
        "conv4 = Conv2D(filters=128, kernel_size=(3,3),strides=(1,1), padding='same', kernel_initializer= 'random_normal', bias_initializer= 'zeros')(conv3)\n",
        "pool2 = MaxPooling2D(pool_size=(2,2), strides=2)(conv4)\n",
        "conv5 = Conv2D(filters=256, kernel_size=(3,3), strides=(1,1), padding='same', kernel_initializer= 'random_normal', bias_initializer= 'zeros')(pool2)\n",
        "conv6 = Conv2D(filters=256, kernel_size=(3,3), strides=(1,1), padding='same', kernel_initializer= 'random_normal', bias_initializer= 'zeros')(conv5)\n",
        "conv7 = Conv2D(filters=256, kernel_size=(3,3), strides=(1,1), padding='same', kernel_initializer= 'random_normal', bias_initializer= 'zeros')(conv6)\n",
        "pool3 = MaxPooling2D(pool_size=(2,2), strides=2)(conv7)\n",
        "conv8 = Conv2D(filters=512, kernel_size=(3,3), strides=(1,1), padding='same', kernel_initializer= 'random_normal', bias_initializer= 'zeros')(pool3)\n",
        "conv9 = Conv2D(filters=512, kernel_size=(3,3), strides=(1,1), padding='same', kernel_initializer= 'random_normal', bias_initializer= 'zeros')(conv8)\n",
        "conv10 = Conv2D(filters=512, kernel_size=(3,3), strides=(1,1), padding='same', kernel_initializer= 'random_normal', bias_initializer= 'zeros')(conv9)\n",
        "pool4 = MaxPooling2D(pool_size= (2,2), strides= 2)(conv10)\n",
        "conv11 = Conv2D(filters=512, kernel_size=(3,3), strides=(1,1), padding='same', kernel_initializer= 'random_normal', bias_initializer= 'zeros')(pool4)\n",
        "conv12 = Conv2D(filters=512, kernel_size=(3,3), strides=(1,1), padding='same', kernel_initializer= 'random_normal', bias_initializer= 'zeros')(conv11)\n",
        "conv13 = Conv2D(filters=512, kernel_size=(3,3), strides=(1,1), padding='same', kernel_initializer= 'random_normal', bias_initializer= 'zeros')(conv12)\n",
        "pool5 = MaxPooling2D(pool_size= (2,2), strides= 2)(conv13)\n",
        "flatten = Flatten()(pool5)\n",
        "dense1 = Dense(units=4096,activation='relu', kernel_regularizer= l2(0.0005), kernel_initializer= 'random_normal', bias_initializer= 'zeros')(flatten)\n",
        "dropout1 = Dropout(rate=0.5)(dense1)\n",
        "dense2 = Dense(units=4096, activation='relu', kernel_regularizer= l2(0.0005), kernel_initializer= 'random_normal', bias_initializer= 'zeros')(dropout1)\n",
        "dropout2 = Dropout(rate=0.5)(dense2)\n",
        "output = Dense(units=1, activation='sigmoid', kernel_regularizer= l2(0.0005), kernel_initializer= 'random_normal', bias_initializer= 'zeros')(dropout2)\n",
        "A = Model(inputs = input, outputs = output)\n",
        "A.summary()\n",
        "\n"
      ],
      "execution_count": null,
      "outputs": [
        {
          "output_type": "stream",
          "text": [
            "Model: \"functional_1\"\n",
            "_________________________________________________________________\n",
            "Layer (type)                 Output Shape              Param #   \n",
            "=================================================================\n",
            "input_1 (InputLayer)         [(None, 224, 224, 3)]     0         \n",
            "_________________________________________________________________\n",
            "conv2d (Conv2D)              (None, 224, 224, 64)      1792      \n",
            "_________________________________________________________________\n",
            "conv2d_1 (Conv2D)            (None, 224, 224, 64)      36928     \n",
            "_________________________________________________________________\n",
            "max_pooling2d (MaxPooling2D) (None, 112, 112, 64)      0         \n",
            "_________________________________________________________________\n",
            "conv2d_2 (Conv2D)            (None, 112, 112, 128)     73856     \n",
            "_________________________________________________________________\n",
            "conv2d_3 (Conv2D)            (None, 112, 112, 128)     147584    \n",
            "_________________________________________________________________\n",
            "max_pooling2d_1 (MaxPooling2 (None, 56, 56, 128)       0         \n",
            "_________________________________________________________________\n",
            "conv2d_4 (Conv2D)            (None, 56, 56, 256)       295168    \n",
            "_________________________________________________________________\n",
            "conv2d_5 (Conv2D)            (None, 56, 56, 256)       590080    \n",
            "_________________________________________________________________\n",
            "conv2d_6 (Conv2D)            (None, 56, 56, 256)       590080    \n",
            "_________________________________________________________________\n",
            "max_pooling2d_2 (MaxPooling2 (None, 28, 28, 256)       0         \n",
            "_________________________________________________________________\n",
            "conv2d_7 (Conv2D)            (None, 28, 28, 512)       1180160   \n",
            "_________________________________________________________________\n",
            "conv2d_8 (Conv2D)            (None, 28, 28, 512)       2359808   \n",
            "_________________________________________________________________\n",
            "conv2d_9 (Conv2D)            (None, 28, 28, 512)       2359808   \n",
            "_________________________________________________________________\n",
            "max_pooling2d_3 (MaxPooling2 (None, 14, 14, 512)       0         \n",
            "_________________________________________________________________\n",
            "conv2d_10 (Conv2D)           (None, 14, 14, 512)       2359808   \n",
            "_________________________________________________________________\n",
            "conv2d_11 (Conv2D)           (None, 14, 14, 512)       2359808   \n",
            "_________________________________________________________________\n",
            "conv2d_12 (Conv2D)           (None, 14, 14, 512)       2359808   \n",
            "_________________________________________________________________\n",
            "max_pooling2d_4 (MaxPooling2 (None, 7, 7, 512)         0         \n",
            "_________________________________________________________________\n",
            "flatten (Flatten)            (None, 25088)             0         \n",
            "_________________________________________________________________\n",
            "dense (Dense)                (None, 4096)              102764544 \n",
            "_________________________________________________________________\n",
            "dropout (Dropout)            (None, 4096)              0         \n",
            "_________________________________________________________________\n",
            "dense_1 (Dense)              (None, 4096)              16781312  \n",
            "_________________________________________________________________\n",
            "dropout_1 (Dropout)          (None, 4096)              0         \n",
            "_________________________________________________________________\n",
            "dense_2 (Dense)              (None, 1)                 4097      \n",
            "=================================================================\n",
            "Total params: 134,264,641\n",
            "Trainable params: 134,264,641\n",
            "Non-trainable params: 0\n",
            "_________________________________________________________________\n"
          ],
          "name": "stdout"
        }
      ]
    },
    {
      "cell_type": "code",
      "metadata": {
        "id": "y0jE_B_FWKY0"
      },
      "source": [
        "A.compile(optimizer= 'adam', metrics=['accuracy'], loss='binary_crossentropy')"
      ],
      "execution_count": null,
      "outputs": []
    },
    {
      "cell_type": "code",
      "metadata": {
        "colab": {
          "base_uri": "https://localhost:8080/",
          "height": 1000
        },
        "id": "llHRPejEvgj4",
        "outputId": "e48d0247-6853-4028-8b13-a15ff988cdbd"
      },
      "source": [
        "model = A.fit(x=td, validation_data = vd, epochs=50)"
      ],
      "execution_count": null,
      "outputs": [
        {
          "output_type": "stream",
          "text": [
            "Epoch 1/50\n",
            "1/1 [==============================] - 21s 21s/step - loss: 106937.6094 - accuracy: 0.5068 - val_loss: 1428171.0000 - val_accuracy: 0.5000\n",
            "Epoch 2/50\n",
            "1/1 [==============================] - 20s 20s/step - loss: 1463097.7500 - accuracy: 0.5000 - val_loss: 1590847.2500 - val_accuracy: 0.5000\n",
            "Epoch 3/50\n",
            "1/1 [==============================] - 20s 20s/step - loss: 1531418.2500 - accuracy: 0.5135 - val_loss: 41941932.0000 - val_accuracy: 0.5000\n",
            "Epoch 4/50\n",
            "1/1 [==============================] - 20s 20s/step - loss: 35504888.0000 - accuracy: 0.5000 - val_loss: 915010048.0000 - val_accuracy: 0.5000\n",
            "Epoch 5/50\n",
            "1/1 [==============================] - 20s 20s/step - loss: 950735616.0000 - accuracy: 0.5000 - val_loss: 2415496.7500 - val_accuracy: 0.5000\n",
            "Epoch 6/50\n",
            "1/1 [==============================] - 20s 20s/step - loss: 2601046.0000 - accuracy: 0.5000 - val_loss: 10148.2285 - val_accuracy: 0.8000\n",
            "Epoch 7/50\n",
            "1/1 [==============================] - 20s 20s/step - loss: 133283.4375 - accuracy: 0.5473 - val_loss: 1445936.8750 - val_accuracy: 0.5000\n",
            "Epoch 8/50\n",
            "1/1 [==============================] - 20s 20s/step - loss: 1442251.6250 - accuracy: 0.5000 - val_loss: 2634805.2500 - val_accuracy: 0.5000\n",
            "Epoch 9/50\n",
            "1/1 [==============================] - 20s 20s/step - loss: 2438493.0000 - accuracy: 0.5000 - val_loss: 4618118.5000 - val_accuracy: 0.5000\n",
            "Epoch 10/50\n",
            "1/1 [==============================] - 20s 20s/step - loss: 5412792.5000 - accuracy: 0.5000 - val_loss: 9937818.0000 - val_accuracy: 0.5000\n",
            "Epoch 11/50\n",
            "1/1 [==============================] - 20s 20s/step - loss: 9107243.0000 - accuracy: 0.5000 - val_loss: 359798.7812 - val_accuracy: 0.5000\n",
            "Epoch 12/50\n",
            "1/1 [==============================] - 20s 20s/step - loss: 342839.0938 - accuracy: 0.5473 - val_loss: 2708655.2500 - val_accuracy: 0.5000\n",
            "Epoch 13/50\n",
            "1/1 [==============================] - 21s 21s/step - loss: 2629220.7500 - accuracy: 0.5000 - val_loss: 724614.4375 - val_accuracy: 0.5000\n",
            "Epoch 14/50\n",
            "1/1 [==============================] - 20s 20s/step - loss: 670547.7500 - accuracy: 0.4932 - val_loss: 3914822.5000 - val_accuracy: 0.5000\n",
            "Epoch 15/50\n",
            "1/1 [==============================] - 20s 20s/step - loss: 4231394.5000 - accuracy: 0.5000 - val_loss: 470643.4062 - val_accuracy: 0.5000\n",
            "Epoch 16/50\n",
            "1/1 [==============================] - 20s 20s/step - loss: 615869.0625 - accuracy: 0.5473 - val_loss: 3966464.7500 - val_accuracy: 0.5000\n",
            "Epoch 17/50\n",
            "1/1 [==============================] - 20s 20s/step - loss: 4281810.5000 - accuracy: 0.5000 - val_loss: 670863.6875 - val_accuracy: 0.5000\n",
            "Epoch 18/50\n",
            "1/1 [==============================] - 20s 20s/step - loss: 968968.1875 - accuracy: 0.5338 - val_loss: 58766.5547 - val_accuracy: 0.8250\n",
            "Epoch 19/50\n",
            "1/1 [==============================] - 20s 20s/step - loss: 221088.2656 - accuracy: 0.6824 - val_loss: 12360682.0000 - val_accuracy: 0.5000\n",
            "Epoch 20/50\n",
            "1/1 [==============================] - 21s 21s/step - loss: 12988647.0000 - accuracy: 0.5000 - val_loss: 5814642.5000 - val_accuracy: 0.5000\n",
            "Epoch 21/50\n",
            "1/1 [==============================] - 20s 20s/step - loss: 6560427.5000 - accuracy: 0.5000 - val_loss: 12706559.0000 - val_accuracy: 0.5000\n",
            "Epoch 22/50\n",
            "1/1 [==============================] - 20s 20s/step - loss: 17494948.0000 - accuracy: 0.5000 - val_loss: 135884208.0000 - val_accuracy: 0.5000\n",
            "Epoch 23/50\n",
            "1/1 [==============================] - 20s 20s/step - loss: 161498928.0000 - accuracy: 0.5000 - val_loss: 20016394.0000 - val_accuracy: 0.5000\n",
            "Epoch 24/50\n",
            "1/1 [==============================] - 20s 20s/step - loss: 20044840.0000 - accuracy: 0.5068 - val_loss: 5566579712.0000 - val_accuracy: 0.5000\n",
            "Epoch 25/50\n",
            "1/1 [==============================] - 20s 20s/step - loss: 5874730496.0000 - accuracy: 0.5000 - val_loss: 50135872.0000 - val_accuracy: 0.5000\n",
            "Epoch 26/50\n",
            "1/1 [==============================] - 21s 21s/step - loss: 43981868.0000 - accuracy: 0.5000 - val_loss: 207881648.0000 - val_accuracy: 0.5000\n",
            "Epoch 27/50\n",
            "1/1 [==============================] - 20s 20s/step - loss: 241463136.0000 - accuracy: 0.5000 - val_loss: 153229968.0000 - val_accuracy: 0.5000\n",
            "Epoch 28/50\n",
            "1/1 [==============================] - 20s 20s/step - loss: 129678832.0000 - accuracy: 0.5000 - val_loss: 22610072.0000 - val_accuracy: 0.5000\n",
            "Epoch 29/50\n",
            "1/1 [==============================] - 20s 20s/step - loss: 34720588.0000 - accuracy: 0.5000 - val_loss: 347857504.0000 - val_accuracy: 0.5000\n",
            "Epoch 30/50\n",
            "1/1 [==============================] - 20s 20s/step - loss: 409745888.0000 - accuracy: 0.5000 - val_loss: 396231072.0000 - val_accuracy: 0.5000\n",
            "Epoch 31/50\n",
            "1/1 [==============================] - 20s 20s/step - loss: 380252640.0000 - accuracy: 0.5000 - val_loss: 8187006.5000 - val_accuracy: 0.5000\n",
            "Epoch 32/50\n",
            "1/1 [==============================] - 20s 20s/step - loss: 8587108.0000 - accuracy: 0.4932 - val_loss: 24890254.0000 - val_accuracy: 0.5000\n",
            "Epoch 33/50\n",
            "1/1 [==============================] - 20s 20s/step - loss: 32100448.0000 - accuracy: 0.5068 - val_loss: 74447808.0000 - val_accuracy: 0.5000\n",
            "Epoch 34/50\n",
            "1/1 [==============================] - 20s 20s/step - loss: 126976760.0000 - accuracy: 0.5000 - val_loss: 17759950.0000 - val_accuracy: 0.5000\n",
            "Epoch 35/50\n",
            "1/1 [==============================] - 20s 20s/step - loss: 60863808.0000 - accuracy: 0.4932 - val_loss: 100319384.0000 - val_accuracy: 0.5000\n",
            "Epoch 36/50\n",
            "1/1 [==============================] - 20s 20s/step - loss: 102866472.0000 - accuracy: 0.5000 - val_loss: 6130788864.0000 - val_accuracy: 0.5000\n",
            "Epoch 37/50\n",
            "1/1 [==============================] - 20s 20s/step - loss: 5582812672.0000 - accuracy: 0.5000 - val_loss: 210288656.0000 - val_accuracy: 0.5000\n",
            "Epoch 38/50\n",
            "1/1 [==============================] - 20s 20s/step - loss: 236202896.0000 - accuracy: 0.5000 - val_loss: 897086464.0000 - val_accuracy: 0.5000\n",
            "Epoch 39/50\n",
            "1/1 [==============================] - ETA: 0s - loss: 919090368.0000 - accuracy: 0.5000"
          ],
          "name": "stdout"
        },
        {
          "output_type": "error",
          "ename": "KeyboardInterrupt",
          "evalue": "ignored",
          "traceback": [
            "\u001b[0;31m---------------------------------------------------------------------------\u001b[0m",
            "\u001b[0;31mKeyboardInterrupt\u001b[0m                         Traceback (most recent call last)",
            "\u001b[0;32m<ipython-input-11-75e519570826>\u001b[0m in \u001b[0;36m<module>\u001b[0;34m()\u001b[0m\n\u001b[0;32m----> 1\u001b[0;31m \u001b[0mmodel\u001b[0m \u001b[0;34m=\u001b[0m \u001b[0mA\u001b[0m\u001b[0;34m.\u001b[0m\u001b[0mfit\u001b[0m\u001b[0;34m(\u001b[0m\u001b[0mx\u001b[0m\u001b[0;34m=\u001b[0m\u001b[0mtd\u001b[0m\u001b[0;34m,\u001b[0m \u001b[0mvalidation_data\u001b[0m \u001b[0;34m=\u001b[0m \u001b[0mvd\u001b[0m\u001b[0;34m,\u001b[0m \u001b[0mepochs\u001b[0m\u001b[0;34m=\u001b[0m\u001b[0;36m50\u001b[0m\u001b[0;34m)\u001b[0m\u001b[0;34m\u001b[0m\u001b[0;34m\u001b[0m\u001b[0m\n\u001b[0m",
            "\u001b[0;32m/usr/local/lib/python3.6/dist-packages/tensorflow/python/keras/engine/training.py\u001b[0m in \u001b[0;36m_method_wrapper\u001b[0;34m(self, *args, **kwargs)\u001b[0m\n\u001b[1;32m    106\u001b[0m   \u001b[0;32mdef\u001b[0m \u001b[0m_method_wrapper\u001b[0m\u001b[0;34m(\u001b[0m\u001b[0mself\u001b[0m\u001b[0;34m,\u001b[0m \u001b[0;34m*\u001b[0m\u001b[0margs\u001b[0m\u001b[0;34m,\u001b[0m \u001b[0;34m**\u001b[0m\u001b[0mkwargs\u001b[0m\u001b[0;34m)\u001b[0m\u001b[0;34m:\u001b[0m\u001b[0;34m\u001b[0m\u001b[0;34m\u001b[0m\u001b[0m\n\u001b[1;32m    107\u001b[0m     \u001b[0;32mif\u001b[0m \u001b[0;32mnot\u001b[0m \u001b[0mself\u001b[0m\u001b[0;34m.\u001b[0m\u001b[0m_in_multi_worker_mode\u001b[0m\u001b[0;34m(\u001b[0m\u001b[0;34m)\u001b[0m\u001b[0;34m:\u001b[0m  \u001b[0;31m# pylint: disable=protected-access\u001b[0m\u001b[0;34m\u001b[0m\u001b[0;34m\u001b[0m\u001b[0m\n\u001b[0;32m--> 108\u001b[0;31m       \u001b[0;32mreturn\u001b[0m \u001b[0mmethod\u001b[0m\u001b[0;34m(\u001b[0m\u001b[0mself\u001b[0m\u001b[0;34m,\u001b[0m \u001b[0;34m*\u001b[0m\u001b[0margs\u001b[0m\u001b[0;34m,\u001b[0m \u001b[0;34m**\u001b[0m\u001b[0mkwargs\u001b[0m\u001b[0;34m)\u001b[0m\u001b[0;34m\u001b[0m\u001b[0;34m\u001b[0m\u001b[0m\n\u001b[0m\u001b[1;32m    109\u001b[0m \u001b[0;34m\u001b[0m\u001b[0m\n\u001b[1;32m    110\u001b[0m     \u001b[0;31m# Running inside `run_distribute_coordinator` already.\u001b[0m\u001b[0;34m\u001b[0m\u001b[0;34m\u001b[0m\u001b[0;34m\u001b[0m\u001b[0m\n",
            "\u001b[0;32m/usr/local/lib/python3.6/dist-packages/tensorflow/python/keras/engine/training.py\u001b[0m in \u001b[0;36mfit\u001b[0;34m(self, x, y, batch_size, epochs, verbose, callbacks, validation_split, validation_data, shuffle, class_weight, sample_weight, initial_epoch, steps_per_epoch, validation_steps, validation_batch_size, validation_freq, max_queue_size, workers, use_multiprocessing)\u001b[0m\n\u001b[1;32m   1131\u001b[0m               \u001b[0mworkers\u001b[0m\u001b[0;34m=\u001b[0m\u001b[0mworkers\u001b[0m\u001b[0;34m,\u001b[0m\u001b[0;34m\u001b[0m\u001b[0;34m\u001b[0m\u001b[0m\n\u001b[1;32m   1132\u001b[0m               \u001b[0muse_multiprocessing\u001b[0m\u001b[0;34m=\u001b[0m\u001b[0muse_multiprocessing\u001b[0m\u001b[0;34m,\u001b[0m\u001b[0;34m\u001b[0m\u001b[0;34m\u001b[0m\u001b[0m\n\u001b[0;32m-> 1133\u001b[0;31m               return_dict=True)\n\u001b[0m\u001b[1;32m   1134\u001b[0m           \u001b[0mval_logs\u001b[0m \u001b[0;34m=\u001b[0m \u001b[0;34m{\u001b[0m\u001b[0;34m'val_'\u001b[0m \u001b[0;34m+\u001b[0m \u001b[0mname\u001b[0m\u001b[0;34m:\u001b[0m \u001b[0mval\u001b[0m \u001b[0;32mfor\u001b[0m \u001b[0mname\u001b[0m\u001b[0;34m,\u001b[0m \u001b[0mval\u001b[0m \u001b[0;32min\u001b[0m \u001b[0mval_logs\u001b[0m\u001b[0;34m.\u001b[0m\u001b[0mitems\u001b[0m\u001b[0;34m(\u001b[0m\u001b[0;34m)\u001b[0m\u001b[0;34m}\u001b[0m\u001b[0;34m\u001b[0m\u001b[0;34m\u001b[0m\u001b[0m\n\u001b[1;32m   1135\u001b[0m           \u001b[0mepoch_logs\u001b[0m\u001b[0;34m.\u001b[0m\u001b[0mupdate\u001b[0m\u001b[0;34m(\u001b[0m\u001b[0mval_logs\u001b[0m\u001b[0;34m)\u001b[0m\u001b[0;34m\u001b[0m\u001b[0;34m\u001b[0m\u001b[0m\n",
            "\u001b[0;32m/usr/local/lib/python3.6/dist-packages/tensorflow/python/keras/engine/training.py\u001b[0m in \u001b[0;36m_method_wrapper\u001b[0;34m(self, *args, **kwargs)\u001b[0m\n\u001b[1;32m    106\u001b[0m   \u001b[0;32mdef\u001b[0m \u001b[0m_method_wrapper\u001b[0m\u001b[0;34m(\u001b[0m\u001b[0mself\u001b[0m\u001b[0;34m,\u001b[0m \u001b[0;34m*\u001b[0m\u001b[0margs\u001b[0m\u001b[0;34m,\u001b[0m \u001b[0;34m**\u001b[0m\u001b[0mkwargs\u001b[0m\u001b[0;34m)\u001b[0m\u001b[0;34m:\u001b[0m\u001b[0;34m\u001b[0m\u001b[0;34m\u001b[0m\u001b[0m\n\u001b[1;32m    107\u001b[0m     \u001b[0;32mif\u001b[0m \u001b[0;32mnot\u001b[0m \u001b[0mself\u001b[0m\u001b[0;34m.\u001b[0m\u001b[0m_in_multi_worker_mode\u001b[0m\u001b[0;34m(\u001b[0m\u001b[0;34m)\u001b[0m\u001b[0;34m:\u001b[0m  \u001b[0;31m# pylint: disable=protected-access\u001b[0m\u001b[0;34m\u001b[0m\u001b[0;34m\u001b[0m\u001b[0m\n\u001b[0;32m--> 108\u001b[0;31m       \u001b[0;32mreturn\u001b[0m \u001b[0mmethod\u001b[0m\u001b[0;34m(\u001b[0m\u001b[0mself\u001b[0m\u001b[0;34m,\u001b[0m \u001b[0;34m*\u001b[0m\u001b[0margs\u001b[0m\u001b[0;34m,\u001b[0m \u001b[0;34m**\u001b[0m\u001b[0mkwargs\u001b[0m\u001b[0;34m)\u001b[0m\u001b[0;34m\u001b[0m\u001b[0;34m\u001b[0m\u001b[0m\n\u001b[0m\u001b[1;32m    109\u001b[0m \u001b[0;34m\u001b[0m\u001b[0m\n\u001b[1;32m    110\u001b[0m     \u001b[0;31m# Running inside `run_distribute_coordinator` already.\u001b[0m\u001b[0;34m\u001b[0m\u001b[0;34m\u001b[0m\u001b[0;34m\u001b[0m\u001b[0m\n",
            "\u001b[0;32m/usr/local/lib/python3.6/dist-packages/tensorflow/python/keras/engine/training.py\u001b[0m in \u001b[0;36mevaluate\u001b[0;34m(self, x, y, batch_size, verbose, sample_weight, steps, callbacks, max_queue_size, workers, use_multiprocessing, return_dict)\u001b[0m\n\u001b[1;32m   1377\u001b[0m             \u001b[0;32mwith\u001b[0m \u001b[0mtrace\u001b[0m\u001b[0;34m.\u001b[0m\u001b[0mTrace\u001b[0m\u001b[0;34m(\u001b[0m\u001b[0;34m'TraceContext'\u001b[0m\u001b[0;34m,\u001b[0m \u001b[0mgraph_type\u001b[0m\u001b[0;34m=\u001b[0m\u001b[0;34m'test'\u001b[0m\u001b[0;34m,\u001b[0m \u001b[0mstep_num\u001b[0m\u001b[0;34m=\u001b[0m\u001b[0mstep\u001b[0m\u001b[0;34m)\u001b[0m\u001b[0;34m:\u001b[0m\u001b[0;34m\u001b[0m\u001b[0;34m\u001b[0m\u001b[0m\n\u001b[1;32m   1378\u001b[0m               \u001b[0mcallbacks\u001b[0m\u001b[0;34m.\u001b[0m\u001b[0mon_test_batch_begin\u001b[0m\u001b[0;34m(\u001b[0m\u001b[0mstep\u001b[0m\u001b[0;34m)\u001b[0m\u001b[0;34m\u001b[0m\u001b[0;34m\u001b[0m\u001b[0m\n\u001b[0;32m-> 1379\u001b[0;31m               \u001b[0mtmp_logs\u001b[0m \u001b[0;34m=\u001b[0m \u001b[0mtest_function\u001b[0m\u001b[0;34m(\u001b[0m\u001b[0miterator\u001b[0m\u001b[0;34m)\u001b[0m\u001b[0;34m\u001b[0m\u001b[0;34m\u001b[0m\u001b[0m\n\u001b[0m\u001b[1;32m   1380\u001b[0m               \u001b[0;32mif\u001b[0m \u001b[0mdata_handler\u001b[0m\u001b[0;34m.\u001b[0m\u001b[0mshould_sync\u001b[0m\u001b[0;34m:\u001b[0m\u001b[0;34m\u001b[0m\u001b[0;34m\u001b[0m\u001b[0m\n\u001b[1;32m   1381\u001b[0m                 \u001b[0mcontext\u001b[0m\u001b[0;34m.\u001b[0m\u001b[0masync_wait\u001b[0m\u001b[0;34m(\u001b[0m\u001b[0;34m)\u001b[0m\u001b[0;34m\u001b[0m\u001b[0;34m\u001b[0m\u001b[0m\n",
            "\u001b[0;32m/usr/local/lib/python3.6/dist-packages/tensorflow/python/eager/def_function.py\u001b[0m in \u001b[0;36m__call__\u001b[0;34m(self, *args, **kwds)\u001b[0m\n\u001b[1;32m    778\u001b[0m       \u001b[0;32melse\u001b[0m\u001b[0;34m:\u001b[0m\u001b[0;34m\u001b[0m\u001b[0;34m\u001b[0m\u001b[0m\n\u001b[1;32m    779\u001b[0m         \u001b[0mcompiler\u001b[0m \u001b[0;34m=\u001b[0m \u001b[0;34m\"nonXla\"\u001b[0m\u001b[0;34m\u001b[0m\u001b[0;34m\u001b[0m\u001b[0m\n\u001b[0;32m--> 780\u001b[0;31m         \u001b[0mresult\u001b[0m \u001b[0;34m=\u001b[0m \u001b[0mself\u001b[0m\u001b[0;34m.\u001b[0m\u001b[0m_call\u001b[0m\u001b[0;34m(\u001b[0m\u001b[0;34m*\u001b[0m\u001b[0margs\u001b[0m\u001b[0;34m,\u001b[0m \u001b[0;34m**\u001b[0m\u001b[0mkwds\u001b[0m\u001b[0;34m)\u001b[0m\u001b[0;34m\u001b[0m\u001b[0;34m\u001b[0m\u001b[0m\n\u001b[0m\u001b[1;32m    781\u001b[0m \u001b[0;34m\u001b[0m\u001b[0m\n\u001b[1;32m    782\u001b[0m       \u001b[0mnew_tracing_count\u001b[0m \u001b[0;34m=\u001b[0m \u001b[0mself\u001b[0m\u001b[0;34m.\u001b[0m\u001b[0m_get_tracing_count\u001b[0m\u001b[0;34m(\u001b[0m\u001b[0;34m)\u001b[0m\u001b[0;34m\u001b[0m\u001b[0;34m\u001b[0m\u001b[0m\n",
            "\u001b[0;32m/usr/local/lib/python3.6/dist-packages/tensorflow/python/eager/def_function.py\u001b[0m in \u001b[0;36m_call\u001b[0;34m(self, *args, **kwds)\u001b[0m\n\u001b[1;32m    812\u001b[0m       \u001b[0;31m# In this case we have not created variables on the first call. So we can\u001b[0m\u001b[0;34m\u001b[0m\u001b[0;34m\u001b[0m\u001b[0;34m\u001b[0m\u001b[0m\n\u001b[1;32m    813\u001b[0m       \u001b[0;31m# run the first trace but we should fail if variables are created.\u001b[0m\u001b[0;34m\u001b[0m\u001b[0;34m\u001b[0m\u001b[0;34m\u001b[0m\u001b[0m\n\u001b[0;32m--> 814\u001b[0;31m       \u001b[0mresults\u001b[0m \u001b[0;34m=\u001b[0m \u001b[0mself\u001b[0m\u001b[0;34m.\u001b[0m\u001b[0m_stateful_fn\u001b[0m\u001b[0;34m(\u001b[0m\u001b[0;34m*\u001b[0m\u001b[0margs\u001b[0m\u001b[0;34m,\u001b[0m \u001b[0;34m**\u001b[0m\u001b[0mkwds\u001b[0m\u001b[0;34m)\u001b[0m\u001b[0;34m\u001b[0m\u001b[0;34m\u001b[0m\u001b[0m\n\u001b[0m\u001b[1;32m    815\u001b[0m       \u001b[0;32mif\u001b[0m \u001b[0mself\u001b[0m\u001b[0;34m.\u001b[0m\u001b[0m_created_variables\u001b[0m\u001b[0;34m:\u001b[0m\u001b[0;34m\u001b[0m\u001b[0;34m\u001b[0m\u001b[0m\n\u001b[1;32m    816\u001b[0m         raise ValueError(\"Creating variables on a non-first call to a function\"\n",
            "\u001b[0;32m/usr/local/lib/python3.6/dist-packages/tensorflow/python/eager/function.py\u001b[0m in \u001b[0;36m__call__\u001b[0;34m(self, *args, **kwargs)\u001b[0m\n\u001b[1;32m   2827\u001b[0m     \u001b[0;32mwith\u001b[0m \u001b[0mself\u001b[0m\u001b[0;34m.\u001b[0m\u001b[0m_lock\u001b[0m\u001b[0;34m:\u001b[0m\u001b[0;34m\u001b[0m\u001b[0;34m\u001b[0m\u001b[0m\n\u001b[1;32m   2828\u001b[0m       \u001b[0mgraph_function\u001b[0m\u001b[0;34m,\u001b[0m \u001b[0margs\u001b[0m\u001b[0;34m,\u001b[0m \u001b[0mkwargs\u001b[0m \u001b[0;34m=\u001b[0m \u001b[0mself\u001b[0m\u001b[0;34m.\u001b[0m\u001b[0m_maybe_define_function\u001b[0m\u001b[0;34m(\u001b[0m\u001b[0margs\u001b[0m\u001b[0;34m,\u001b[0m \u001b[0mkwargs\u001b[0m\u001b[0;34m)\u001b[0m\u001b[0;34m\u001b[0m\u001b[0;34m\u001b[0m\u001b[0m\n\u001b[0;32m-> 2829\u001b[0;31m     \u001b[0;32mreturn\u001b[0m \u001b[0mgraph_function\u001b[0m\u001b[0;34m.\u001b[0m\u001b[0m_filtered_call\u001b[0m\u001b[0;34m(\u001b[0m\u001b[0margs\u001b[0m\u001b[0;34m,\u001b[0m \u001b[0mkwargs\u001b[0m\u001b[0;34m)\u001b[0m  \u001b[0;31m# pylint: disable=protected-access\u001b[0m\u001b[0;34m\u001b[0m\u001b[0;34m\u001b[0m\u001b[0m\n\u001b[0m\u001b[1;32m   2830\u001b[0m \u001b[0;34m\u001b[0m\u001b[0m\n\u001b[1;32m   2831\u001b[0m   \u001b[0;34m@\u001b[0m\u001b[0mproperty\u001b[0m\u001b[0;34m\u001b[0m\u001b[0;34m\u001b[0m\u001b[0m\n",
            "\u001b[0;32m/usr/local/lib/python3.6/dist-packages/tensorflow/python/eager/function.py\u001b[0m in \u001b[0;36m_filtered_call\u001b[0;34m(self, args, kwargs, cancellation_manager)\u001b[0m\n\u001b[1;32m   1846\u001b[0m                            resource_variable_ops.BaseResourceVariable))],\n\u001b[1;32m   1847\u001b[0m         \u001b[0mcaptured_inputs\u001b[0m\u001b[0;34m=\u001b[0m\u001b[0mself\u001b[0m\u001b[0;34m.\u001b[0m\u001b[0mcaptured_inputs\u001b[0m\u001b[0;34m,\u001b[0m\u001b[0;34m\u001b[0m\u001b[0;34m\u001b[0m\u001b[0m\n\u001b[0;32m-> 1848\u001b[0;31m         cancellation_manager=cancellation_manager)\n\u001b[0m\u001b[1;32m   1849\u001b[0m \u001b[0;34m\u001b[0m\u001b[0m\n\u001b[1;32m   1850\u001b[0m   \u001b[0;32mdef\u001b[0m \u001b[0m_call_flat\u001b[0m\u001b[0;34m(\u001b[0m\u001b[0mself\u001b[0m\u001b[0;34m,\u001b[0m \u001b[0margs\u001b[0m\u001b[0;34m,\u001b[0m \u001b[0mcaptured_inputs\u001b[0m\u001b[0;34m,\u001b[0m \u001b[0mcancellation_manager\u001b[0m\u001b[0;34m=\u001b[0m\u001b[0;32mNone\u001b[0m\u001b[0;34m)\u001b[0m\u001b[0;34m:\u001b[0m\u001b[0;34m\u001b[0m\u001b[0;34m\u001b[0m\u001b[0m\n",
            "\u001b[0;32m/usr/local/lib/python3.6/dist-packages/tensorflow/python/eager/function.py\u001b[0m in \u001b[0;36m_call_flat\u001b[0;34m(self, args, captured_inputs, cancellation_manager)\u001b[0m\n\u001b[1;32m   1922\u001b[0m       \u001b[0;31m# No tape is watching; skip to running the function.\u001b[0m\u001b[0;34m\u001b[0m\u001b[0;34m\u001b[0m\u001b[0;34m\u001b[0m\u001b[0m\n\u001b[1;32m   1923\u001b[0m       return self._build_call_outputs(self._inference_function.call(\n\u001b[0;32m-> 1924\u001b[0;31m           ctx, args, cancellation_manager=cancellation_manager))\n\u001b[0m\u001b[1;32m   1925\u001b[0m     forward_backward = self._select_forward_and_backward_functions(\n\u001b[1;32m   1926\u001b[0m         \u001b[0margs\u001b[0m\u001b[0;34m,\u001b[0m\u001b[0;34m\u001b[0m\u001b[0;34m\u001b[0m\u001b[0m\n",
            "\u001b[0;32m/usr/local/lib/python3.6/dist-packages/tensorflow/python/eager/function.py\u001b[0m in \u001b[0;36mcall\u001b[0;34m(self, ctx, args, cancellation_manager)\u001b[0m\n\u001b[1;32m    548\u001b[0m               \u001b[0minputs\u001b[0m\u001b[0;34m=\u001b[0m\u001b[0margs\u001b[0m\u001b[0;34m,\u001b[0m\u001b[0;34m\u001b[0m\u001b[0;34m\u001b[0m\u001b[0m\n\u001b[1;32m    549\u001b[0m               \u001b[0mattrs\u001b[0m\u001b[0;34m=\u001b[0m\u001b[0mattrs\u001b[0m\u001b[0;34m,\u001b[0m\u001b[0;34m\u001b[0m\u001b[0;34m\u001b[0m\u001b[0m\n\u001b[0;32m--> 550\u001b[0;31m               ctx=ctx)\n\u001b[0m\u001b[1;32m    551\u001b[0m         \u001b[0;32melse\u001b[0m\u001b[0;34m:\u001b[0m\u001b[0;34m\u001b[0m\u001b[0;34m\u001b[0m\u001b[0m\n\u001b[1;32m    552\u001b[0m           outputs = execute.execute_with_cancellation(\n",
            "\u001b[0;32m/usr/local/lib/python3.6/dist-packages/tensorflow/python/eager/execute.py\u001b[0m in \u001b[0;36mquick_execute\u001b[0;34m(op_name, num_outputs, inputs, attrs, ctx, name)\u001b[0m\n\u001b[1;32m     58\u001b[0m     \u001b[0mctx\u001b[0m\u001b[0;34m.\u001b[0m\u001b[0mensure_initialized\u001b[0m\u001b[0;34m(\u001b[0m\u001b[0;34m)\u001b[0m\u001b[0;34m\u001b[0m\u001b[0;34m\u001b[0m\u001b[0m\n\u001b[1;32m     59\u001b[0m     tensors = pywrap_tfe.TFE_Py_Execute(ctx._handle, device_name, op_name,\n\u001b[0;32m---> 60\u001b[0;31m                                         inputs, attrs, num_outputs)\n\u001b[0m\u001b[1;32m     61\u001b[0m   \u001b[0;32mexcept\u001b[0m \u001b[0mcore\u001b[0m\u001b[0;34m.\u001b[0m\u001b[0m_NotOkStatusException\u001b[0m \u001b[0;32mas\u001b[0m \u001b[0me\u001b[0m\u001b[0;34m:\u001b[0m\u001b[0;34m\u001b[0m\u001b[0;34m\u001b[0m\u001b[0m\n\u001b[1;32m     62\u001b[0m     \u001b[0;32mif\u001b[0m \u001b[0mname\u001b[0m \u001b[0;32mis\u001b[0m \u001b[0;32mnot\u001b[0m \u001b[0;32mNone\u001b[0m\u001b[0;34m:\u001b[0m\u001b[0;34m\u001b[0m\u001b[0;34m\u001b[0m\u001b[0m\n",
            "\u001b[0;31mKeyboardInterrupt\u001b[0m: "
          ]
        }
      ]
    },
    {
      "cell_type": "markdown",
      "metadata": {
        "id": "8HBhjJfR9yRS"
      },
      "source": [
        "## **Plotting the accuracies of training and validation dataset**"
      ]
    },
    {
      "cell_type": "code",
      "metadata": {
        "id": "P98gLRFg9CJf"
      },
      "source": [
        "plt.plot(model.history['accuracy'])\n",
        "plt.plot(model.history['val_accuracy'])\n",
        "plt.title('Model Accuracy')\n",
        "plt.xlabel('Epochs')\n",
        "plt.ylabel('Accuracy')\n",
        "plt.legend(['Train', 'Val'], loc = 'upper right')\n",
        "plt.show()"
      ],
      "execution_count": null,
      "outputs": []
    }
  ]
}