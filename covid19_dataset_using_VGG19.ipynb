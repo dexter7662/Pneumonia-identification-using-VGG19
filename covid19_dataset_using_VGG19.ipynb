{
  "nbformat": 4,
  "nbformat_minor": 0,
  "metadata": {
    "colab": {
      "name": "covid19 dataset using VGG19",
      "provenance": [],
      "collapsed_sections": [],
      "authorship_tag": "ABX9TyO6Pvb2ohpUkh6ymMa8jxpe",
      "include_colab_link": true
    },
    "kernelspec": {
      "display_name": "Python 3",
      "name": "python3"
    }
  },
  "cells": [
    {
      "cell_type": "markdown",
      "metadata": {
        "id": "view-in-github",
        "colab_type": "text"
      },
      "source": [
        "<a href=\"https://colab.research.google.com/github/dexter7662/Pneumonia-identification-using-VGG19/blob/main/covid19_dataset_using_VGG19.ipynb\" target=\"_parent\"><img src=\"https://colab.research.google.com/assets/colab-badge.svg\" alt=\"Open In Colab\"/></a>"
      ]
    },
    {
      "cell_type": "code",
      "metadata": {
        "colab": {
          "base_uri": "https://localhost:8080/"
        },
        "id": "5kTjbeTBwV2Z",
        "outputId": "ff3d98d8-318a-4872-af5b-9c2926705406"
      },
      "source": [
        "import os\n",
        "os.environ['KAGGLE_USERNAME'] = \"lorddexter\"\n",
        "os.environ['KAGGLE_KEY'] = \"281706d18d96f899cdc0f5617516c67a\"\n",
        "!kaggle datasets download -d khoongweihao/covid19-xray-dataset-train-test-sets"
      ],
      "execution_count": 1,
      "outputs": [
        {
          "output_type": "stream",
          "text": [
            "Downloading covid19-xray-dataset-train-test-sets.zip to /content\n",
            " 97% 82.0M/84.3M [00:00<00:00, 100MB/s] \n",
            "100% 84.3M/84.3M [00:00<00:00, 133MB/s]\n"
          ],
          "name": "stdout"
        }
      ]
    },
    {
      "cell_type": "code",
      "metadata": {
        "colab": {
          "base_uri": "https://localhost:8080/"
        },
        "id": "Hxtld0O9pHZW",
        "outputId": "e59c2374-5125-42d8-c2e5-17f66b2b92d3"
      },
      "source": [
        "!unzip covid19-xray-dataset-train-test-sets.zip"
      ],
      "execution_count": 2,
      "outputs": [
        {
          "output_type": "stream",
          "text": [
            "Archive:  covid19-xray-dataset-train-test-sets.zip\n",
            "  inflating: xray_dataset_covid19/test/NORMAL/NORMAL2-IM-0035-0001.jpeg  \n",
            "  inflating: xray_dataset_covid19/test/NORMAL/NORMAL2-IM-0052-0001.jpeg  \n",
            "  inflating: xray_dataset_covid19/test/NORMAL/NORMAL2-IM-0058-0001.jpeg  \n",
            "  inflating: xray_dataset_covid19/test/NORMAL/NORMAL2-IM-0059-0001.jpeg  \n",
            "  inflating: xray_dataset_covid19/test/NORMAL/NORMAL2-IM-0072-0001.jpeg  \n",
            "  inflating: xray_dataset_covid19/test/NORMAL/NORMAL2-IM-0073-0001.jpeg  \n",
            "  inflating: xray_dataset_covid19/test/NORMAL/NORMAL2-IM-0092-0001.jpeg  \n",
            "  inflating: xray_dataset_covid19/test/NORMAL/NORMAL2-IM-0105-0001.jpeg  \n",
            "  inflating: xray_dataset_covid19/test/NORMAL/NORMAL2-IM-0110-0001.jpeg  \n",
            "  inflating: xray_dataset_covid19/test/NORMAL/NORMAL2-IM-0111-0001.jpeg  \n",
            "  inflating: xray_dataset_covid19/test/NORMAL/NORMAL2-IM-0112-0001.jpeg  \n",
            "  inflating: xray_dataset_covid19/test/NORMAL/NORMAL2-IM-0117-0001.jpeg  \n",
            "  inflating: xray_dataset_covid19/test/NORMAL/NORMAL2-IM-0120-0001.jpeg  \n",
            "  inflating: xray_dataset_covid19/test/NORMAL/NORMAL2-IM-0123-0001.jpeg  \n",
            "  inflating: xray_dataset_covid19/test/NORMAL/NORMAL2-IM-0130-0001.jpeg  \n",
            "  inflating: xray_dataset_covid19/test/NORMAL/NORMAL2-IM-0131-0001.jpeg  \n",
            "  inflating: xray_dataset_covid19/test/NORMAL/NORMAL2-IM-0132-0001.jpeg  \n",
            "  inflating: xray_dataset_covid19/test/NORMAL/NORMAL2-IM-0139-0001.jpeg  \n",
            "  inflating: xray_dataset_covid19/test/NORMAL/NORMAL2-IM-0145-0001.jpeg  \n",
            "  inflating: xray_dataset_covid19/test/NORMAL/NORMAL2-IM-0171-0001.jpeg  \n",
            "  inflating: xray_dataset_covid19/test/PNEUMONIA/SARS-10.1148rg.242035193-g04mr34g0-Fig8a-day0.jpeg  \n",
            "  inflating: xray_dataset_covid19/test/PNEUMONIA/SARS-10.1148rg.242035193-g04mr34g0-Fig8b-day5.jpeg  \n",
            "  inflating: xray_dataset_covid19/test/PNEUMONIA/SARS-10.1148rg.242035193-g04mr34g0-Fig8c-day10.jpeg  \n",
            "  inflating: xray_dataset_covid19/test/PNEUMONIA/SARS-10.1148rg.242035193-g04mr34g04a-Fig4a-day7.jpeg  \n",
            "  inflating: xray_dataset_covid19/test/PNEUMONIA/SARS-10.1148rg.242035193-g04mr34g04b-Fig4b-day12.jpeg  \n",
            "  inflating: xray_dataset_covid19/test/PNEUMONIA/SARS-10.1148rg.242035193-g04mr34g05x-Fig5-day9.jpeg  \n",
            "  inflating: xray_dataset_covid19/test/PNEUMONIA/SARS-10.1148rg.242035193-g04mr34g07a-Fig7a-day5.jpeg  \n",
            "  inflating: xray_dataset_covid19/test/PNEUMONIA/SARS-10.1148rg.242035193-g04mr34g07b-Fig7b-day12.jpeg  \n",
            "  inflating: xray_dataset_covid19/test/PNEUMONIA/SARS-10.1148rg.242035193-g04mr34g09a-Fig9a-day17.jpeg  \n",
            "  inflating: xray_dataset_covid19/test/PNEUMONIA/SARS-10.1148rg.242035193-g04mr34g09b-Fig9b-day19.jpeg  \n",
            "  inflating: xray_dataset_covid19/test/PNEUMONIA/SARS-10.1148rg.242035193-g04mr34g09c-Fig9c-day27.jpeg  \n",
            "  inflating: xray_dataset_covid19/test/PNEUMONIA/ryct.2020200034.fig2.jpeg  \n",
            "  inflating: xray_dataset_covid19/test/PNEUMONIA/ryct.2020200034.fig5-day0.jpeg  \n",
            "  inflating: xray_dataset_covid19/test/PNEUMONIA/ryct.2020200034.fig5-day4.jpeg  \n",
            "  inflating: xray_dataset_covid19/test/PNEUMONIA/ryct.2020200034.fig5-day7.jpeg  \n",
            "  inflating: xray_dataset_covid19/test/PNEUMONIA/streptococcus-pneumoniae-pneumonia-1.jpg  \n",
            "  inflating: xray_dataset_covid19/test/PNEUMONIA/streptococcus-pneumoniae-pneumonia-temporal-evolution-1-day0.jpg  \n",
            "  inflating: xray_dataset_covid19/test/PNEUMONIA/streptococcus-pneumoniae-pneumonia-temporal-evolution-1-day1.jpg  \n",
            "  inflating: xray_dataset_covid19/test/PNEUMONIA/streptococcus-pneumoniae-pneumonia-temporal-evolution-1-day2.jpg  \n",
            "  inflating: xray_dataset_covid19/test/PNEUMONIA/streptococcus-pneumoniae-pneumonia-temporal-evolution-1-day3.jpg  \n",
            "  inflating: xray_dataset_covid19/train/NORMAL/IM-0001-0001.jpeg  \n",
            "  inflating: xray_dataset_covid19/train/NORMAL/IM-0003-0001.jpeg  \n",
            "  inflating: xray_dataset_covid19/train/NORMAL/IM-0005-0001.jpeg  \n",
            "  inflating: xray_dataset_covid19/train/NORMAL/IM-0006-0001.jpeg  \n",
            "  inflating: xray_dataset_covid19/train/NORMAL/IM-0007-0001.jpeg  \n",
            "  inflating: xray_dataset_covid19/train/NORMAL/IM-0009-0001.jpeg  \n",
            "  inflating: xray_dataset_covid19/train/NORMAL/IM-0010-0001.jpeg  \n",
            "  inflating: xray_dataset_covid19/train/NORMAL/IM-0011-0001-0001.jpeg  \n",
            "  inflating: xray_dataset_covid19/train/NORMAL/IM-0011-0001-0002.jpeg  \n",
            "  inflating: xray_dataset_covid19/train/NORMAL/IM-0011-0001.jpeg  \n",
            "  inflating: xray_dataset_covid19/train/NORMAL/IM-0013-0001.jpeg  \n",
            "  inflating: xray_dataset_covid19/train/NORMAL/IM-0015-0001.jpeg  \n",
            "  inflating: xray_dataset_covid19/train/NORMAL/IM-0016-0001.jpeg  \n",
            "  inflating: xray_dataset_covid19/train/NORMAL/IM-0017-0001.jpeg  \n",
            "  inflating: xray_dataset_covid19/train/NORMAL/IM-0019-0001.jpeg  \n",
            "  inflating: xray_dataset_covid19/train/NORMAL/IM-0021-0001.jpeg  \n",
            "  inflating: xray_dataset_covid19/train/NORMAL/IM-0022-0001.jpeg  \n",
            "  inflating: xray_dataset_covid19/train/NORMAL/IM-0023-0001.jpeg  \n",
            "  inflating: xray_dataset_covid19/train/NORMAL/IM-0025-0001.jpeg  \n",
            "  inflating: xray_dataset_covid19/train/NORMAL/IM-0027-0001.jpeg  \n",
            "  inflating: xray_dataset_covid19/train/NORMAL/IM-0029-0001.jpeg  \n",
            "  inflating: xray_dataset_covid19/train/NORMAL/IM-0030-0001.jpeg  \n",
            "  inflating: xray_dataset_covid19/train/NORMAL/IM-0031-0001.jpeg  \n",
            "  inflating: xray_dataset_covid19/train/NORMAL/IM-0033-0001-0001.jpeg  \n",
            "  inflating: xray_dataset_covid19/train/NORMAL/IM-0033-0001-0002.jpeg  \n",
            "  inflating: xray_dataset_covid19/train/NORMAL/IM-0033-0001.jpeg  \n",
            "  inflating: xray_dataset_covid19/train/NORMAL/IM-0035-0001.jpeg  \n",
            "  inflating: xray_dataset_covid19/train/NORMAL/IM-0036-0001.jpeg  \n",
            "  inflating: xray_dataset_covid19/train/NORMAL/IM-0037-0001.jpeg  \n",
            "  inflating: xray_dataset_covid19/train/NORMAL/IM-0039-0001.jpeg  \n",
            "  inflating: xray_dataset_covid19/train/NORMAL/IM-0041-0001.jpeg  \n",
            "  inflating: xray_dataset_covid19/train/NORMAL/IM-0043-0001.jpeg  \n",
            "  inflating: xray_dataset_covid19/train/NORMAL/IM-0045-0001.jpeg  \n",
            "  inflating: xray_dataset_covid19/train/NORMAL/IM-0046-0001.jpeg  \n",
            "  inflating: xray_dataset_covid19/train/NORMAL/IM-0049-0001.jpeg  \n",
            "  inflating: xray_dataset_covid19/train/NORMAL/IM-0050-0001.jpeg  \n",
            "  inflating: xray_dataset_covid19/train/NORMAL/IM-0059-0001.jpeg  \n",
            "  inflating: xray_dataset_covid19/train/NORMAL/IM-0061-0001.jpeg  \n",
            "  inflating: xray_dataset_covid19/train/NORMAL/IM-0063-0001.jpeg  \n",
            "  inflating: xray_dataset_covid19/train/NORMAL/IM-0069-0001.jpeg  \n",
            "  inflating: xray_dataset_covid19/train/NORMAL/IM-0070-0001.jpeg  \n",
            "  inflating: xray_dataset_covid19/train/NORMAL/IM-0071-0001.jpeg  \n",
            "  inflating: xray_dataset_covid19/train/NORMAL/IM-0073-0001.jpeg  \n",
            "  inflating: xray_dataset_covid19/train/NORMAL/IM-0075-0001.jpeg  \n",
            "  inflating: xray_dataset_covid19/train/NORMAL/IM-0077-0001.jpeg  \n",
            "  inflating: xray_dataset_covid19/train/NORMAL/IM-0079-0001.jpeg  \n",
            "  inflating: xray_dataset_covid19/train/NORMAL/IM-0081-0001.jpeg  \n",
            "  inflating: xray_dataset_covid19/train/NORMAL/IM-0083-0001.jpeg  \n",
            "  inflating: xray_dataset_covid19/train/NORMAL/IM-0084-0001.jpeg  \n",
            "  inflating: xray_dataset_covid19/train/NORMAL/IM-0085-0001.jpeg  \n",
            "  inflating: xray_dataset_covid19/train/NORMAL/IM-0086-0001.jpeg  \n",
            "  inflating: xray_dataset_covid19/train/NORMAL/IM-0087-0001.jpeg  \n",
            "  inflating: xray_dataset_covid19/train/NORMAL/IM-0089-0001.jpeg  \n",
            "  inflating: xray_dataset_covid19/train/NORMAL/IM-0091-0001.jpeg  \n",
            "  inflating: xray_dataset_covid19/train/NORMAL/IM-0093-0001.jpeg  \n",
            "  inflating: xray_dataset_covid19/train/NORMAL/IM-0095-0001.jpeg  \n",
            "  inflating: xray_dataset_covid19/train/NORMAL/IM-0097-0001.jpeg  \n",
            "  inflating: xray_dataset_covid19/train/NORMAL/IM-0099-0001.jpeg  \n",
            "  inflating: xray_dataset_covid19/train/NORMAL/IM-0101-0001.jpeg  \n",
            "  inflating: xray_dataset_covid19/train/NORMAL/IM-0102-0001.jpeg  \n",
            "  inflating: xray_dataset_covid19/train/NORMAL/IM-0103-0001.jpeg  \n",
            "  inflating: xray_dataset_covid19/train/NORMAL/IM-0105-0001.jpeg  \n",
            "  inflating: xray_dataset_covid19/train/NORMAL/IM-0107-0001.jpeg  \n",
            "  inflating: xray_dataset_covid19/train/NORMAL/IM-0110-0001.jpeg  \n",
            "  inflating: xray_dataset_covid19/train/NORMAL/IM-0111-0001.jpeg  \n",
            "  inflating: xray_dataset_covid19/train/NORMAL/NORMAL2-IM-0007-0001.jpeg  \n",
            "  inflating: xray_dataset_covid19/train/NORMAL/NORMAL2-IM-0012-0001.jpeg  \n",
            "  inflating: xray_dataset_covid19/train/NORMAL/NORMAL2-IM-0013-0001.jpeg  \n",
            "  inflating: xray_dataset_covid19/train/NORMAL/NORMAL2-IM-0023-0001.jpeg  \n",
            "  inflating: xray_dataset_covid19/train/NORMAL/NORMAL2-IM-0027-0001.jpeg  \n",
            "  inflating: xray_dataset_covid19/train/NORMAL/NORMAL2-IM-0028-0001.jpeg  \n",
            "  inflating: xray_dataset_covid19/train/NORMAL/NORMAL2-IM-0029-0001.jpeg  \n",
            "  inflating: xray_dataset_covid19/train/NORMAL/NORMAL2-IM-0030-0001.jpeg  \n",
            "  inflating: xray_dataset_covid19/train/NORMAL/NORMAL2-IM-0033-0001.jpeg  \n",
            "  inflating: xray_dataset_covid19/train/PNEUMONIA/01E392EE-69F9-4E33-BFCE-E5C968654078.jpeg  \n",
            "  inflating: xray_dataset_covid19/train/PNEUMONIA/1-s2.0-S0140673620303706-fx1_lrg.jpg  \n",
            "  inflating: xray_dataset_covid19/train/PNEUMONIA/1-s2.0-S1684118220300608-main.pdf-001.jpg  \n",
            "  inflating: xray_dataset_covid19/train/PNEUMONIA/1-s2.0-S1684118220300608-main.pdf-002.jpg  \n",
            "  inflating: xray_dataset_covid19/train/PNEUMONIA/1-s2.0-S1684118220300682-main.pdf-002-a1.png  \n",
            "  inflating: xray_dataset_covid19/train/PNEUMONIA/1-s2.0-S1684118220300682-main.pdf-002-a2.png  \n",
            "  inflating: xray_dataset_covid19/train/PNEUMONIA/1-s2.0-S1684118220300682-main.pdf-003-b1.png  \n",
            "  inflating: xray_dataset_covid19/train/PNEUMONIA/1-s2.0-S1684118220300682-main.pdf-003-b2.png  \n",
            "  inflating: xray_dataset_covid19/train/PNEUMONIA/1312A392-67A3-4EBF-9319-810CF6DA5EF6.jpeg  \n",
            "  inflating: xray_dataset_covid19/train/PNEUMONIA/171CB377-62FF-4B76-906C-F3787A01CB2E.jpeg  \n",
            "  inflating: xray_dataset_covid19/train/PNEUMONIA/1B734A89-A1BF-49A8-A1D3-66FAFA4FAC5D.jpeg  \n",
            "  inflating: xray_dataset_covid19/train/PNEUMONIA/23E99E2E-447C-46E5-8EB2-D35D12473C39.png  \n",
            "  inflating: xray_dataset_covid19/train/PNEUMONIA/2C10A413-AABE-4807-8CCE-6A2025594067.jpeg  \n",
            "  inflating: xray_dataset_covid19/train/PNEUMONIA/2C26F453-AF3B-4517-BB9E-802CF2179543.jpeg  \n",
            "  inflating: xray_dataset_covid19/train/PNEUMONIA/31BA3780-2323-493F-8AED-62081B9C383B.jpeg  \n",
            "  inflating: xray_dataset_covid19/train/PNEUMONIA/39EE8E69-5801-48DE-B6E3-BE7D1BCF3092.jpeg  \n",
            "  inflating: xray_dataset_covid19/train/PNEUMONIA/41591_2020_819_Fig1_HTML.webp-day10.png  \n",
            "  inflating: xray_dataset_covid19/train/PNEUMONIA/41591_2020_819_Fig1_HTML.webp-day5.png  \n",
            "  inflating: xray_dataset_covid19/train/PNEUMONIA/446B2CB6-B572-40AB-B01F-1910CA07086A.jpeg  \n",
            "  inflating: xray_dataset_covid19/train/PNEUMONIA/5931B64A-7B97-485D-BE60-3F1EA76BC4F0.jpeg  \n",
            "  inflating: xray_dataset_covid19/train/PNEUMONIA/5CBC2E94-D358-401E-8928-965CCD965C5C.jpeg  \n",
            "  inflating: xray_dataset_covid19/train/PNEUMONIA/5e6dd879fde9502400e58b2f.jpeg  \n",
            "  inflating: xray_dataset_covid19/train/PNEUMONIA/6CB4EFC6-68FA-4CD5-940C-BEFA8DAFE9A7.jpeg  \n",
            "  inflating: xray_dataset_covid19/train/PNEUMONIA/7AF6C1AF-D249-4BD2-8C26-449304105D03.jpeg  \n",
            "  inflating: xray_dataset_covid19/train/PNEUMONIA/7C69C012-7479-493F-8722-ABC29C60A2DD.jpeg  \n",
            "  inflating: xray_dataset_covid19/train/PNEUMONIA/7D2CF6CE-F529-4470-8356-D33FFAF98600.jpeg  \n",
            "  inflating: xray_dataset_covid19/train/PNEUMONIA/7E335538-2F86-424E-A0AB-6397783A38D0.jpeg  \n",
            "  inflating: xray_dataset_covid19/train/PNEUMONIA/7EF28E12-F628-4BEC-A8C5-E6277C2E4F60.png  \n",
            "  inflating: xray_dataset_covid19/train/PNEUMONIA/80446565-E090-4187-A031-9D3CEAA586C8.jpeg  \n",
            "  inflating: xray_dataset_covid19/train/PNEUMONIA/85E52EB3-56E9-4D67-82DA-DEA247C82886.jpeg  \n",
            "  inflating: xray_dataset_covid19/train/PNEUMONIA/8FDE8DBA-CFBD-4B4C-B1A4-6F36A93B7E87.jpeg  \n",
            "  inflating: xray_dataset_covid19/train/PNEUMONIA/93FE0BB1-022D-4F24-9727-987A07975FFB.jpeg  \n",
            "  inflating: xray_dataset_covid19/train/PNEUMONIA/9C34AF49-E589-44D5-92D3-168B3B04E4A6.jpeg  \n",
            "  inflating: xray_dataset_covid19/train/PNEUMONIA/ARDSSevere.png  \n",
            "  inflating: xray_dataset_covid19/train/PNEUMONIA/B59DD164-51D5-40DF-A926-6A42DD52EBE8.jpeg  \n",
            "  inflating: xray_dataset_covid19/train/PNEUMONIA/C6EA0BE5-B01E-4113-B194-18D956675E25.jpeg  \n",
            "  inflating: xray_dataset_covid19/train/PNEUMONIA/CD50BA96-6982-4C80-AE7B-5F67ACDBFA56.jpeg  \n",
            "  inflating: xray_dataset_covid19/train/PNEUMONIA/E1724330-1866-4581-8CD8-CEC9B8AFEDDE.jpeg  \n",
            "  inflating: xray_dataset_covid19/train/PNEUMONIA/E63574A7-4188-4C8D-8D17-9D67A18A1AFA.jpeg  \n",
            "  inflating: xray_dataset_covid19/train/PNEUMONIA/F051E018-DAD1-4506-AD43-BE4CA29E960B.jpeg  \n",
            "  inflating: xray_dataset_covid19/train/PNEUMONIA/F4341CE7-73C9-45C6-99C8-8567A5484B63.jpeg  \n",
            "  inflating: xray_dataset_covid19/train/PNEUMONIA/F63AB6CE-1968-4154-A70F-913AF154F53D.jpeg  \n",
            "  inflating: xray_dataset_covid19/train/PNEUMONIA/MERS-CoV-1-s2.0-S0378603X1500248X-gr4e.jpg  \n",
            "  inflating: xray_dataset_covid19/train/PNEUMONIA/acute-respiratory-distress-syndrome-ards-1.jpg  \n",
            "  inflating: xray_dataset_covid19/train/PNEUMONIA/all14238-fig-0001-m-b.jpg  \n",
            "  inflating: xray_dataset_covid19/train/PNEUMONIA/all14238-fig-0001-m-c.jpg  \n",
            "  inflating: xray_dataset_covid19/train/PNEUMONIA/all14238-fig-0002-m-e.jpg  \n",
            "  inflating: xray_dataset_covid19/train/PNEUMONIA/ards-secondary-to-tiger-snake-bite.png  \n",
            "  inflating: xray_dataset_covid19/train/PNEUMONIA/auntminnie-2020_01_31_20_24_2322_2020_01_31_x-ray_coronavirus_US.jpg  \n",
            "  inflating: xray_dataset_covid19/train/PNEUMONIA/auntminnie-b-2020_01_28_23_51_6665_2020_01_28_Vietnam_coronavirus.jpeg  \n",
            "  inflating: xray_dataset_covid19/train/PNEUMONIA/auntminnie-c-2020_01_28_23_51_6665_2020_01_28_Vietnam_coronavirus.jpeg  \n",
            "  inflating: xray_dataset_covid19/train/PNEUMONIA/auntminnie-d-2020_01_28_23_51_6665_2020_01_28_Vietnam_coronavirus.jpeg  \n",
            "  inflating: xray_dataset_covid19/train/PNEUMONIA/covid-19-pneumonia-12.jpg  \n",
            "  inflating: xray_dataset_covid19/train/PNEUMONIA/covid-19-pneumonia-14-PA.png  \n",
            "  inflating: xray_dataset_covid19/train/PNEUMONIA/covid-19-pneumonia-15-PA.jpg  \n",
            "  inflating: xray_dataset_covid19/train/PNEUMONIA/covid-19-pneumonia-7-PA.jpg  \n",
            "  inflating: xray_dataset_covid19/train/PNEUMONIA/jkms-35-e79-g001-l-a.jpg  \n",
            "  inflating: xray_dataset_covid19/train/PNEUMONIA/jkms-35-e79-g001-l-b.jpg  \n",
            "  inflating: xray_dataset_covid19/train/PNEUMONIA/jkms-35-e79-g001-l-c.jpg  \n",
            "  inflating: xray_dataset_covid19/train/PNEUMONIA/kjr-21-e24-g001-l-a.jpg  \n",
            "  inflating: xray_dataset_covid19/train/PNEUMONIA/kjr-21-e24-g002-l-a.jpg  \n",
            "  inflating: xray_dataset_covid19/train/PNEUMONIA/kjr-21-e24-g003-l-a.jpg  \n",
            "  inflating: xray_dataset_covid19/train/PNEUMONIA/kjr-21-e25-g001-l-a.jpg  \n",
            "  inflating: xray_dataset_covid19/train/PNEUMONIA/lancet-case2a.jpg  \n",
            "  inflating: xray_dataset_covid19/train/PNEUMONIA/nCoV-Snohomish-20382862_web1_M1-Lungs-EDH-200201-640x300@2x.jpg  \n",
            "  inflating: xray_dataset_covid19/train/PNEUMONIA/nCoV-radiol.2020200269.fig1-day7.jpeg  \n",
            "  inflating: xray_dataset_covid19/train/PNEUMONIA/nejmc2001573_f1a.jpeg  \n",
            "  inflating: xray_dataset_covid19/train/PNEUMONIA/nejmc2001573_f1b.jpeg  \n",
            "  inflating: xray_dataset_covid19/train/PNEUMONIA/nejmoa2001191_f1-PA.jpeg  \n",
            "  inflating: xray_dataset_covid19/train/PNEUMONIA/nejmoa2001191_f3-PA.jpeg  \n",
            "  inflating: xray_dataset_covid19/train/PNEUMONIA/nejmoa2001191_f4.jpeg  \n",
            "  inflating: xray_dataset_covid19/train/PNEUMONIA/nejmoa2001191_f5-PA.jpeg  \n",
            "  inflating: xray_dataset_covid19/train/PNEUMONIA/pneumocystis-pneumonia-2-PA.png  \n",
            "  inflating: xray_dataset_covid19/train/PNEUMONIA/ryct.2020200028.fig1a.jpeg  \n"
          ],
          "name": "stdout"
        }
      ]
    },
    {
      "cell_type": "code",
      "metadata": {
        "id": "waWsJpQmPyvw"
      },
      "source": [
        "import tensorflow as tf\n",
        "import matplotlib.pyplot as plt"
      ],
      "execution_count": 3,
      "outputs": []
    },
    {
      "cell_type": "markdown",
      "metadata": {
        "id": "AczcQuqz9Yxs"
      },
      "source": [
        "### **Importing the datasets**"
      ]
    },
    {
      "cell_type": "code",
      "metadata": {
        "colab": {
          "base_uri": "https://localhost:8080/"
        },
        "id": "Q5lLD1NTvjjH",
        "outputId": "8099469e-914b-40ca-83f6-d42580219d4d"
      },
      "source": [
        "from keras.preprocessing.image import ImageDataGenerator\n",
        "train_datagen = ImageDataGenerator(samplewise_center= True, samplewise_std_normalization = True, rotation_range=180, horizontal_flip=True, vertical_flip=True, rescale= 1./255)\n",
        "td = train_datagen.flow_from_directory(directory='xray_dataset_covid19/train', target_size=(224, 224), batch_size=256, shuffle=True, class_mode= 'binary')\n",
        "validation_datagen = ImageDataGenerator(samplewise_center= True, samplewise_std_normalization = True, rotation_range=180, horizontal_flip=True, vertical_flip=True, rescale =1./255)\n",
        "vd = validation_datagen.flow_from_directory(directory = 'xray_dataset_covid19/test', target_size=(224,224), batch_size=256, shuffle=True, class_mode='binary')"
      ],
      "execution_count": 5,
      "outputs": [
        {
          "output_type": "stream",
          "text": [
            "Found 148 images belonging to 2 classes.\n",
            "Found 40 images belonging to 2 classes.\n"
          ],
          "name": "stdout"
        }
      ]
    },
    {
      "cell_type": "markdown",
      "metadata": {
        "id": "V6T6U9sS9h6_"
      },
      "source": [
        "## **Creating and fitting the model**"
      ]
    },
    {
      "cell_type": "code",
      "metadata": {
        "id": "VYd3b2TVmiN1"
      },
      "source": [
        "from tensorflow.keras.models import Model\n",
        "from tensorflow.keras.layers import Dense\n",
        "from tensorflow.keras.layers import Input\n",
        "from tensorflow.keras.layers import Conv2D, MaxPooling2D, BatchNormalization\n",
        "from tensorflow.keras.layers import Dropout\n",
        "from tensorflow.keras.initializers import RandomNormal\n",
        "from tensorflow.keras.regularizers import l2\n",
        "from tensorflow.keras import optimizers\n",
        "from tensorflow.keras.layers import Flatten"
      ],
      "execution_count": 6,
      "outputs": []
    },
    {
      "cell_type": "code",
      "metadata": {
        "colab": {
          "base_uri": "https://localhost:8080/"
        },
        "id": "W9C6viwhHacE",
        "outputId": "ce5ec447-fe79-4fdb-9512-17c9a08b6b85"
      },
      "source": [
        "\n",
        "input = Input(shape=(224,224,3))\n",
        "conv1 = Conv2D(filters=64,kernel_size=(3,3),strides=(1,1), padding='same', kernel_initializer= 'random_normal', bias_initializer= 'zeros')(input)\n",
        "conv2 = Conv2D(filters=64,kernel_size=(3,3),strides=(1,1), padding='same', kernel_initializer= 'random_normal', bias_initializer= 'zeros')(conv1)\n",
        "pool1 = MaxPooling2D(pool_size=(2,2), strides=2)(conv2)\n",
        "conv3 = Conv2D(filters=128, kernel_size=(3,3),strides=(1,1), padding='same', kernel_initializer= 'random_normal', bias_initializer= 'zeros')(pool1)\n",
        "conv4 = Conv2D(filters=128, kernel_size=(3,3),strides=(1,1), padding='same', kernel_initializer= 'random_normal', bias_initializer= 'zeros')(conv3)\n",
        "pool2 = MaxPooling2D(pool_size=(2,2), strides=2)(conv4)\n",
        "conv5 = Conv2D(filters=256, kernel_size=(3,3), strides=(1,1), padding='same', kernel_initializer= 'random_normal', bias_initializer= 'zeros')(pool2)\n",
        "conv6 = Conv2D(filters=256, kernel_size=(3,3), strides=(1,1), padding='same', kernel_initializer= 'random_normal', bias_initializer= 'zeros')(conv5)\n",
        "conv7 = Conv2D(filters=256, kernel_size=(3,3), strides=(1,1), padding='same', kernel_initializer= 'random_normal', bias_initializer= 'zeros')(conv6)\n",
        "pool3 = MaxPooling2D(pool_size=(2,2), strides=2)(conv7)\n",
        "conv8 = Conv2D(filters=512, kernel_size=(3,3), strides=(1,1), padding='same', kernel_initializer= 'random_normal', bias_initializer= 'zeros')(pool3)\n",
        "conv9 = Conv2D(filters=512, kernel_size=(3,3), strides=(1,1), padding='same', kernel_initializer= 'random_normal', bias_initializer= 'zeros')(conv8)\n",
        "conv10 = Conv2D(filters=512, kernel_size=(3,3), strides=(1,1), padding='same', kernel_initializer= 'random_normal', bias_initializer= 'zeros')(conv9)\n",
        "pool4 = MaxPooling2D(pool_size= (2,2), strides= 2)(conv10)\n",
        "conv11 = Conv2D(filters=512, kernel_size=(3,3), strides=(1,1), padding='same', kernel_initializer= 'random_normal', bias_initializer= 'zeros')(pool4)\n",
        "conv12 = Conv2D(filters=512, kernel_size=(3,3), strides=(1,1), padding='same', kernel_initializer= 'random_normal', bias_initializer= 'zeros')(conv11)\n",
        "conv13 = Conv2D(filters=512, kernel_size=(3,3), strides=(1,1), padding='same', kernel_initializer= 'random_normal', bias_initializer= 'zeros')(conv12)\n",
        "pool5 = MaxPooling2D(pool_size= (2,2), strides= 2)(conv13)\n",
        "flatten = Flatten()(pool5)\n",
        "dense1 = Dense(units=4096,activation='relu', kernel_regularizer= l2(0.0005), kernel_initializer= 'random_normal', bias_initializer= 'zeros')(flatten)\n",
        "dropout1 = Dropout(rate=0.5)(dense1)\n",
        "dense2 = Dense(units=4096, activation='relu', kernel_regularizer= l2(0.0005), kernel_initializer= 'random_normal', bias_initializer= 'zeros')(dropout1)\n",
        "dropout2 = Dropout(rate=0.5)(dense2)\n",
        "output = Dense(units=1, activation='sigmoid', kernel_regularizer= l2(0.0005), kernel_initializer= 'random_normal', bias_initializer= 'zeros')(dropout2)\n",
        "A = Model(inputs = input, outputs = output)\n",
        "A.summary()\n",
        "\n"
      ],
      "execution_count": 7,
      "outputs": [
        {
          "output_type": "stream",
          "text": [
            "Model: \"functional_1\"\n",
            "_________________________________________________________________\n",
            "Layer (type)                 Output Shape              Param #   \n",
            "=================================================================\n",
            "input_1 (InputLayer)         [(None, 224, 224, 3)]     0         \n",
            "_________________________________________________________________\n",
            "conv2d (Conv2D)              (None, 224, 224, 64)      1792      \n",
            "_________________________________________________________________\n",
            "conv2d_1 (Conv2D)            (None, 224, 224, 64)      36928     \n",
            "_________________________________________________________________\n",
            "max_pooling2d (MaxPooling2D) (None, 112, 112, 64)      0         \n",
            "_________________________________________________________________\n",
            "conv2d_2 (Conv2D)            (None, 112, 112, 128)     73856     \n",
            "_________________________________________________________________\n",
            "conv2d_3 (Conv2D)            (None, 112, 112, 128)     147584    \n",
            "_________________________________________________________________\n",
            "max_pooling2d_1 (MaxPooling2 (None, 56, 56, 128)       0         \n",
            "_________________________________________________________________\n",
            "conv2d_4 (Conv2D)            (None, 56, 56, 256)       295168    \n",
            "_________________________________________________________________\n",
            "conv2d_5 (Conv2D)            (None, 56, 56, 256)       590080    \n",
            "_________________________________________________________________\n",
            "conv2d_6 (Conv2D)            (None, 56, 56, 256)       590080    \n",
            "_________________________________________________________________\n",
            "max_pooling2d_2 (MaxPooling2 (None, 28, 28, 256)       0         \n",
            "_________________________________________________________________\n",
            "conv2d_7 (Conv2D)            (None, 28, 28, 512)       1180160   \n",
            "_________________________________________________________________\n",
            "conv2d_8 (Conv2D)            (None, 28, 28, 512)       2359808   \n",
            "_________________________________________________________________\n",
            "conv2d_9 (Conv2D)            (None, 28, 28, 512)       2359808   \n",
            "_________________________________________________________________\n",
            "max_pooling2d_3 (MaxPooling2 (None, 14, 14, 512)       0         \n",
            "_________________________________________________________________\n",
            "conv2d_10 (Conv2D)           (None, 14, 14, 512)       2359808   \n",
            "_________________________________________________________________\n",
            "conv2d_11 (Conv2D)           (None, 14, 14, 512)       2359808   \n",
            "_________________________________________________________________\n",
            "conv2d_12 (Conv2D)           (None, 14, 14, 512)       2359808   \n",
            "_________________________________________________________________\n",
            "max_pooling2d_4 (MaxPooling2 (None, 7, 7, 512)         0         \n",
            "_________________________________________________________________\n",
            "flatten (Flatten)            (None, 25088)             0         \n",
            "_________________________________________________________________\n",
            "dense (Dense)                (None, 4096)              102764544 \n",
            "_________________________________________________________________\n",
            "dropout (Dropout)            (None, 4096)              0         \n",
            "_________________________________________________________________\n",
            "dense_1 (Dense)              (None, 4096)              16781312  \n",
            "_________________________________________________________________\n",
            "dropout_1 (Dropout)          (None, 4096)              0         \n",
            "_________________________________________________________________\n",
            "dense_2 (Dense)              (None, 1)                 4097      \n",
            "=================================================================\n",
            "Total params: 134,264,641\n",
            "Trainable params: 134,264,641\n",
            "Non-trainable params: 0\n",
            "_________________________________________________________________\n"
          ],
          "name": "stdout"
        }
      ]
    },
    {
      "cell_type": "code",
      "metadata": {
        "id": "y0jE_B_FWKY0"
      },
      "source": [
        "A.compile(optimizer= 'adam', metrics=['accuracy'], loss='binary_crossentropy')"
      ],
      "execution_count": 8,
      "outputs": []
    },
    {
      "cell_type": "code",
      "metadata": {
        "id": "JZC0YPHleV89"
      },
      "source": [
        "model = A.fit(x=td, validation_data = vd, epochs=50)"
      ],
      "execution_count": null,
      "outputs": []
    },
    {
      "cell_type": "markdown",
      "metadata": {
        "id": "8HBhjJfR9yRS"
      },
      "source": [
        "## **Plotting the accuracies of training and validation dataset**"
      ]
    },
    {
      "cell_type": "code",
      "metadata": {
        "id": "P98gLRFg9CJf"
      },
      "source": [
        "plt.plot(model.history['accuracy'])\n",
        "plt.plot(model.history['val_accuracy'])\n",
        "plt.title('Model Accuracy')\n",
        "plt.xlabel('Epochs')\n",
        "plt.ylabel('Accuracy')\n",
        "plt.legend(['Train', 'Val'], loc = 'upper right')\n",
        "plt.show()"
      ],
      "execution_count": null,
      "outputs": []
    }
  ]
}